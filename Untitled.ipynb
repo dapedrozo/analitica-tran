{
 "cells": [
  {
   "cell_type": "code",
   "execution_count": 40,
   "metadata": {},
   "outputs": [],
   "source": [
    "import pandas as pd\n",
    "import matplotlib.pyplot as plt\n",
    "from pylab import *\n",
    "from seaborn import lmplot\n",
    "from seaborn import distplot\n",
    "from seaborn import boxplot"
   ]
  },
  {
   "cell_type": "markdown",
   "metadata": {},
   "source": [
    "# empezamos visualizando los datos originales"
   ]
  },
  {
   "cell_type": "code",
   "execution_count": 2,
   "metadata": {},
   "outputs": [
    {
     "data": {
      "text/html": [
       "<div>\n",
       "<style scoped>\n",
       "    .dataframe tbody tr th:only-of-type {\n",
       "        vertical-align: middle;\n",
       "    }\n",
       "\n",
       "    .dataframe tbody tr th {\n",
       "        vertical-align: top;\n",
       "    }\n",
       "\n",
       "    .dataframe thead th {\n",
       "        text-align: right;\n",
       "    }\n",
       "</style>\n",
       "<table border=\"1\" class=\"dataframe\">\n",
       "  <thead>\n",
       "    <tr style=\"text-align: right;\">\n",
       "      <th></th>\n",
       "      <th>numerocomparendo</th>\n",
       "      <th>tipocomparendo</th>\n",
       "      <th>fechaimposicion</th>\n",
       "      <th>horaimposicion</th>\n",
       "      <th>fechanotificacion</th>\n",
       "      <th>direccioninfraccion</th>\n",
       "      <th>ciudad</th>\n",
       "      <th>infraccion</th>\n",
       "      <th>cepo</th>\n",
       "      <th>metrolinea</th>\n",
       "      <th>...</th>\n",
       "      <th>nombre</th>\n",
       "      <th>valorcomp</th>\n",
       "      <th>saldo</th>\n",
       "      <th>valor_pagado</th>\n",
       "      <th>curso</th>\n",
       "      <th>tipo_curso</th>\n",
       "      <th>grado</th>\n",
       "      <th>numeroprueba</th>\n",
       "      <th>clasevehiculo</th>\n",
       "      <th>claseservicio</th>\n",
       "    </tr>\n",
       "  </thead>\n",
       "  <tbody>\n",
       "    <tr>\n",
       "      <th>0</th>\n",
       "      <td>68001000000024846502</td>\n",
       "      <td>Manual</td>\n",
       "      <td>2020-01-01</td>\n",
       "      <td>01:50:00</td>\n",
       "      <td>2020-01-01</td>\n",
       "      <td>CARRERA 3 OCC CALLE 59</td>\n",
       "      <td>BUCARAMANGA</td>\n",
       "      <td>F</td>\n",
       "      <td>NO</td>\n",
       "      <td>NO</td>\n",
       "      <td>...</td>\n",
       "      <td>BUCARAMANGA</td>\n",
       "      <td>5266800</td>\n",
       "      <td>0</td>\n",
       "      <td>NaN</td>\n",
       "      <td>NaN</td>\n",
       "      <td>NaN</td>\n",
       "      <td>1.0</td>\n",
       "      <td>NaN</td>\n",
       "      <td>Motocicleta</td>\n",
       "      <td>Particular</td>\n",
       "    </tr>\n",
       "    <tr>\n",
       "      <th>1</th>\n",
       "      <td>68001000000024846503</td>\n",
       "      <td>Manual</td>\n",
       "      <td>2020-01-01</td>\n",
       "      <td>02:15:00</td>\n",
       "      <td>2020-01-01</td>\n",
       "      <td>CARRERA 3 OCC CALLE 59</td>\n",
       "      <td>BUCARAMANGA</td>\n",
       "      <td>F</td>\n",
       "      <td>NO</td>\n",
       "      <td>NO</td>\n",
       "      <td>...</td>\n",
       "      <td>BUCARAMANGA</td>\n",
       "      <td>2633400</td>\n",
       "      <td>0</td>\n",
       "      <td>NaN</td>\n",
       "      <td>NaN</td>\n",
       "      <td>Interno</td>\n",
       "      <td>0.0</td>\n",
       "      <td>NaN</td>\n",
       "      <td>Motocicleta</td>\n",
       "      <td>Particular</td>\n",
       "    </tr>\n",
       "    <tr>\n",
       "      <th>2</th>\n",
       "      <td>68001000000024843956</td>\n",
       "      <td>Manual</td>\n",
       "      <td>2020-01-01</td>\n",
       "      <td>02:50:00</td>\n",
       "      <td>2020-01-01</td>\n",
       "      <td>AVENIDA VIA AL MAR TRASVERSAL CURVA DE LA VIRGEN</td>\n",
       "      <td>BUCARAMANGA</td>\n",
       "      <td>C14</td>\n",
       "      <td>NO</td>\n",
       "      <td>NO</td>\n",
       "      <td>...</td>\n",
       "      <td>BUCARAMANGA</td>\n",
       "      <td>438900</td>\n",
       "      <td>442239</td>\n",
       "      <td>NaN</td>\n",
       "      <td>NaN</td>\n",
       "      <td>Interno</td>\n",
       "      <td>NaN</td>\n",
       "      <td>NaN</td>\n",
       "      <td>Motocicleta</td>\n",
       "      <td>Particular</td>\n",
       "    </tr>\n",
       "    <tr>\n",
       "      <th>3</th>\n",
       "      <td>68001000000024843958</td>\n",
       "      <td>Manual</td>\n",
       "      <td>2020-01-01</td>\n",
       "      <td>02:50:00</td>\n",
       "      <td>2020-01-01</td>\n",
       "      <td>AVENIDA AL MAR TRASVERSAL CURVA VIRGEN</td>\n",
       "      <td>BUCARAMANGA</td>\n",
       "      <td>B01</td>\n",
       "      <td>NO</td>\n",
       "      <td>NO</td>\n",
       "      <td>...</td>\n",
       "      <td>BUCARAMANGA</td>\n",
       "      <td>234080</td>\n",
       "      <td>235861</td>\n",
       "      <td>NaN</td>\n",
       "      <td>NaN</td>\n",
       "      <td>NaN</td>\n",
       "      <td>NaN</td>\n",
       "      <td>NaN</td>\n",
       "      <td>Motocicleta</td>\n",
       "      <td>Particular</td>\n",
       "    </tr>\n",
       "    <tr>\n",
       "      <th>4</th>\n",
       "      <td>68001000000024846504</td>\n",
       "      <td>Manual</td>\n",
       "      <td>2020-01-01</td>\n",
       "      <td>02:50:00</td>\n",
       "      <td>2020-01-01</td>\n",
       "      <td>CARRERA 3W CALLE 59</td>\n",
       "      <td>BUCARAMANGA</td>\n",
       "      <td>F</td>\n",
       "      <td>NO</td>\n",
       "      <td>NO</td>\n",
       "      <td>...</td>\n",
       "      <td>BUCARAMANGA</td>\n",
       "      <td>5266800</td>\n",
       "      <td>0</td>\n",
       "      <td>NaN</td>\n",
       "      <td>NaN</td>\n",
       "      <td>NaN</td>\n",
       "      <td>1.0</td>\n",
       "      <td>NaN</td>\n",
       "      <td>Motocicleta</td>\n",
       "      <td>Particular</td>\n",
       "    </tr>\n",
       "  </tbody>\n",
       "</table>\n",
       "<p>5 rows × 47 columns</p>\n",
       "</div>"
      ],
      "text/plain": [
       "       numerocomparendo tipocomparendo fechaimposicion horaimposicion  \\\n",
       "0  68001000000024846502         Manual      2020-01-01       01:50:00   \n",
       "1  68001000000024846503         Manual      2020-01-01       02:15:00   \n",
       "2  68001000000024843956         Manual      2020-01-01       02:50:00   \n",
       "3  68001000000024843958         Manual      2020-01-01       02:50:00   \n",
       "4  68001000000024846504         Manual      2020-01-01       02:50:00   \n",
       "\n",
       "  fechanotificacion                                direccioninfraccion  \\\n",
       "0        2020-01-01                             CARRERA 3 OCC CALLE 59   \n",
       "1        2020-01-01                             CARRERA 3 OCC CALLE 59   \n",
       "2        2020-01-01   AVENIDA VIA AL MAR TRASVERSAL CURVA DE LA VIRGEN   \n",
       "3        2020-01-01             AVENIDA AL MAR TRASVERSAL CURVA VIRGEN   \n",
       "4        2020-01-01                                CARRERA 3W CALLE 59   \n",
       "\n",
       "        ciudad infraccion cepo metrolinea  ...       nombre valorcomp   saldo  \\\n",
       "0  BUCARAMANGA          F   NO         NO  ...  BUCARAMANGA   5266800       0   \n",
       "1  BUCARAMANGA          F   NO         NO  ...  BUCARAMANGA   2633400       0   \n",
       "2  BUCARAMANGA        C14   NO         NO  ...  BUCARAMANGA    438900  442239   \n",
       "3  BUCARAMANGA        B01   NO         NO  ...  BUCARAMANGA    234080  235861   \n",
       "4  BUCARAMANGA          F   NO         NO  ...  BUCARAMANGA   5266800       0   \n",
       "\n",
       "  valor_pagado curso tipo_curso grado numeroprueba clasevehiculo claseservicio  \n",
       "0          NaN   NaN        NaN   1.0          NaN   Motocicleta    Particular  \n",
       "1          NaN   NaN    Interno   0.0          NaN   Motocicleta    Particular  \n",
       "2          NaN   NaN    Interno   NaN          NaN   Motocicleta    Particular  \n",
       "3          NaN   NaN        NaN   NaN          NaN   Motocicleta    Particular  \n",
       "4          NaN   NaN        NaN   1.0          NaN   Motocicleta    Particular  \n",
       "\n",
       "[5 rows x 47 columns]"
      ]
     },
     "execution_count": 2,
     "metadata": {},
     "output_type": "execute_result"
    }
   ],
   "source": [
    "dataLimpio1 = pd.read_excel('Datos Contravencional 2020.xlsx')\n",
    "dataLimpio1.head()"
   ]
  },
  {
   "cell_type": "code",
   "execution_count": 3,
   "metadata": {},
   "outputs": [
    {
     "data": {
      "text/plain": [
       "8586"
      ]
     },
     "execution_count": 3,
     "metadata": {},
     "output_type": "execute_result"
    }
   ],
   "source": [
    "len(dataLimpio1)"
   ]
  },
  {
   "cell_type": "code",
   "execution_count": 4,
   "metadata": {},
   "outputs": [
    {
     "data": {
      "text/plain": [
       "Index(['numerocomparendo', 'tipocomparendo', 'fechaimposicion',\n",
       "       'horaimposicion', 'fechanotificacion', 'direccioninfraccion', 'ciudad',\n",
       "       'infraccion', 'cepo', 'metrolinea', 'chaleco', 'casco', 'pico',\n",
       "       'restriccion_motocicleta', 'resolucion_111', 'licenciatransito',\n",
       "       'tipodoc', 'documento', 'inmovilizado', 'grua', 'usuario', 'placaa',\n",
       "       'entidad', 'nombreagente', 'estado', 'tipo_resolucion',\n",
       "       'numero_resolucion', 'fecha_documento', 'fecha_pago', 'fecha_acuerdo',\n",
       "       'placac', 'primernombre', 'segundonombre', 'primerapellido',\n",
       "       'segundoapellido', 'celular', 'direccioninfractor', 'nombre',\n",
       "       'valorcomp', 'saldo', 'valor_pagado', 'curso', 'tipo_curso', 'grado',\n",
       "       'numeroprueba', 'clasevehiculo', 'claseservicio'],\n",
       "      dtype='object')"
      ]
     },
     "execution_count": 4,
     "metadata": {},
     "output_type": "execute_result"
    }
   ],
   "source": [
    "dataLimpio1.columns"
   ]
  },
  {
   "cell_type": "markdown",
   "metadata": {},
   "source": [
    "### renombrando columnas para facil manipulacion"
   ]
  },
  {
   "cell_type": "code",
   "execution_count": 5,
   "metadata": {},
   "outputs": [],
   "source": [
    "dataLimpio1.columns=['ncomp','tcomp','fcomp','hcomp','fnotifi','dirinfrac','ciudad','infrac','cepo','metro','chale','casco','pico','restmot','resolu111','licencia','tipodoc','ncedula','inmobi','grua','usuario','placaa','entidad','nomagen','estado','tiresol','nresol','fdocu','fpago','facuerdo','placac','primnom','segnom','primapell','segapell','cel','dirinfractor','name','valorcomp','saldo','valpag','curso','ticurso','grado','nprueba','clasvehicu','classervicio']"
   ]
  },
  {
   "cell_type": "code",
   "execution_count": 6,
   "metadata": {},
   "outputs": [
    {
     "data": {
      "text/html": [
       "<div>\n",
       "<style scoped>\n",
       "    .dataframe tbody tr th:only-of-type {\n",
       "        vertical-align: middle;\n",
       "    }\n",
       "\n",
       "    .dataframe tbody tr th {\n",
       "        vertical-align: top;\n",
       "    }\n",
       "\n",
       "    .dataframe thead th {\n",
       "        text-align: right;\n",
       "    }\n",
       "</style>\n",
       "<table border=\"1\" class=\"dataframe\">\n",
       "  <thead>\n",
       "    <tr style=\"text-align: right;\">\n",
       "      <th></th>\n",
       "      <th>ncomp</th>\n",
       "      <th>tcomp</th>\n",
       "      <th>fcomp</th>\n",
       "      <th>hcomp</th>\n",
       "      <th>fnotifi</th>\n",
       "      <th>dirinfrac</th>\n",
       "      <th>ciudad</th>\n",
       "      <th>infrac</th>\n",
       "      <th>cepo</th>\n",
       "      <th>metro</th>\n",
       "      <th>...</th>\n",
       "      <th>name</th>\n",
       "      <th>valorcomp</th>\n",
       "      <th>saldo</th>\n",
       "      <th>valpag</th>\n",
       "      <th>curso</th>\n",
       "      <th>ticurso</th>\n",
       "      <th>grado</th>\n",
       "      <th>nprueba</th>\n",
       "      <th>clasvehicu</th>\n",
       "      <th>classervicio</th>\n",
       "    </tr>\n",
       "  </thead>\n",
       "  <tbody>\n",
       "    <tr>\n",
       "      <th>0</th>\n",
       "      <td>68001000000024846502</td>\n",
       "      <td>Manual</td>\n",
       "      <td>2020-01-01</td>\n",
       "      <td>01:50:00</td>\n",
       "      <td>2020-01-01</td>\n",
       "      <td>CARRERA 3 OCC CALLE 59</td>\n",
       "      <td>BUCARAMANGA</td>\n",
       "      <td>F</td>\n",
       "      <td>NO</td>\n",
       "      <td>NO</td>\n",
       "      <td>...</td>\n",
       "      <td>BUCARAMANGA</td>\n",
       "      <td>5266800</td>\n",
       "      <td>0</td>\n",
       "      <td>NaN</td>\n",
       "      <td>NaN</td>\n",
       "      <td>NaN</td>\n",
       "      <td>1.0</td>\n",
       "      <td>NaN</td>\n",
       "      <td>Motocicleta</td>\n",
       "      <td>Particular</td>\n",
       "    </tr>\n",
       "    <tr>\n",
       "      <th>1</th>\n",
       "      <td>68001000000024846503</td>\n",
       "      <td>Manual</td>\n",
       "      <td>2020-01-01</td>\n",
       "      <td>02:15:00</td>\n",
       "      <td>2020-01-01</td>\n",
       "      <td>CARRERA 3 OCC CALLE 59</td>\n",
       "      <td>BUCARAMANGA</td>\n",
       "      <td>F</td>\n",
       "      <td>NO</td>\n",
       "      <td>NO</td>\n",
       "      <td>...</td>\n",
       "      <td>BUCARAMANGA</td>\n",
       "      <td>2633400</td>\n",
       "      <td>0</td>\n",
       "      <td>NaN</td>\n",
       "      <td>NaN</td>\n",
       "      <td>Interno</td>\n",
       "      <td>0.0</td>\n",
       "      <td>NaN</td>\n",
       "      <td>Motocicleta</td>\n",
       "      <td>Particular</td>\n",
       "    </tr>\n",
       "    <tr>\n",
       "      <th>2</th>\n",
       "      <td>68001000000024843956</td>\n",
       "      <td>Manual</td>\n",
       "      <td>2020-01-01</td>\n",
       "      <td>02:50:00</td>\n",
       "      <td>2020-01-01</td>\n",
       "      <td>AVENIDA VIA AL MAR TRASVERSAL CURVA DE LA VIRGEN</td>\n",
       "      <td>BUCARAMANGA</td>\n",
       "      <td>C14</td>\n",
       "      <td>NO</td>\n",
       "      <td>NO</td>\n",
       "      <td>...</td>\n",
       "      <td>BUCARAMANGA</td>\n",
       "      <td>438900</td>\n",
       "      <td>442239</td>\n",
       "      <td>NaN</td>\n",
       "      <td>NaN</td>\n",
       "      <td>Interno</td>\n",
       "      <td>NaN</td>\n",
       "      <td>NaN</td>\n",
       "      <td>Motocicleta</td>\n",
       "      <td>Particular</td>\n",
       "    </tr>\n",
       "    <tr>\n",
       "      <th>3</th>\n",
       "      <td>68001000000024843958</td>\n",
       "      <td>Manual</td>\n",
       "      <td>2020-01-01</td>\n",
       "      <td>02:50:00</td>\n",
       "      <td>2020-01-01</td>\n",
       "      <td>AVENIDA AL MAR TRASVERSAL CURVA VIRGEN</td>\n",
       "      <td>BUCARAMANGA</td>\n",
       "      <td>B01</td>\n",
       "      <td>NO</td>\n",
       "      <td>NO</td>\n",
       "      <td>...</td>\n",
       "      <td>BUCARAMANGA</td>\n",
       "      <td>234080</td>\n",
       "      <td>235861</td>\n",
       "      <td>NaN</td>\n",
       "      <td>NaN</td>\n",
       "      <td>NaN</td>\n",
       "      <td>NaN</td>\n",
       "      <td>NaN</td>\n",
       "      <td>Motocicleta</td>\n",
       "      <td>Particular</td>\n",
       "    </tr>\n",
       "    <tr>\n",
       "      <th>4</th>\n",
       "      <td>68001000000024846504</td>\n",
       "      <td>Manual</td>\n",
       "      <td>2020-01-01</td>\n",
       "      <td>02:50:00</td>\n",
       "      <td>2020-01-01</td>\n",
       "      <td>CARRERA 3W CALLE 59</td>\n",
       "      <td>BUCARAMANGA</td>\n",
       "      <td>F</td>\n",
       "      <td>NO</td>\n",
       "      <td>NO</td>\n",
       "      <td>...</td>\n",
       "      <td>BUCARAMANGA</td>\n",
       "      <td>5266800</td>\n",
       "      <td>0</td>\n",
       "      <td>NaN</td>\n",
       "      <td>NaN</td>\n",
       "      <td>NaN</td>\n",
       "      <td>1.0</td>\n",
       "      <td>NaN</td>\n",
       "      <td>Motocicleta</td>\n",
       "      <td>Particular</td>\n",
       "    </tr>\n",
       "  </tbody>\n",
       "</table>\n",
       "<p>5 rows × 47 columns</p>\n",
       "</div>"
      ],
      "text/plain": [
       "                  ncomp   tcomp      fcomp     hcomp    fnotifi  \\\n",
       "0  68001000000024846502  Manual 2020-01-01  01:50:00 2020-01-01   \n",
       "1  68001000000024846503  Manual 2020-01-01  02:15:00 2020-01-01   \n",
       "2  68001000000024843956  Manual 2020-01-01  02:50:00 2020-01-01   \n",
       "3  68001000000024843958  Manual 2020-01-01  02:50:00 2020-01-01   \n",
       "4  68001000000024846504  Manual 2020-01-01  02:50:00 2020-01-01   \n",
       "\n",
       "                                           dirinfrac       ciudad infrac cepo  \\\n",
       "0                             CARRERA 3 OCC CALLE 59  BUCARAMANGA      F   NO   \n",
       "1                             CARRERA 3 OCC CALLE 59  BUCARAMANGA      F   NO   \n",
       "2   AVENIDA VIA AL MAR TRASVERSAL CURVA DE LA VIRGEN  BUCARAMANGA    C14   NO   \n",
       "3             AVENIDA AL MAR TRASVERSAL CURVA VIRGEN  BUCARAMANGA    B01   NO   \n",
       "4                                CARRERA 3W CALLE 59  BUCARAMANGA      F   NO   \n",
       "\n",
       "  metro  ...         name valorcomp   saldo valpag curso  ticurso grado  \\\n",
       "0    NO  ...  BUCARAMANGA   5266800       0    NaN   NaN      NaN   1.0   \n",
       "1    NO  ...  BUCARAMANGA   2633400       0    NaN   NaN  Interno   0.0   \n",
       "2    NO  ...  BUCARAMANGA    438900  442239    NaN   NaN  Interno   NaN   \n",
       "3    NO  ...  BUCARAMANGA    234080  235861    NaN   NaN      NaN   NaN   \n",
       "4    NO  ...  BUCARAMANGA   5266800       0    NaN   NaN      NaN   1.0   \n",
       "\n",
       "  nprueba   clasvehicu classervicio  \n",
       "0     NaN  Motocicleta   Particular  \n",
       "1     NaN  Motocicleta   Particular  \n",
       "2     NaN  Motocicleta   Particular  \n",
       "3     NaN  Motocicleta   Particular  \n",
       "4     NaN  Motocicleta   Particular  \n",
       "\n",
       "[5 rows x 47 columns]"
      ]
     },
     "execution_count": 6,
     "metadata": {},
     "output_type": "execute_result"
    }
   ],
   "source": [
    "dataLimpio1.head()"
   ]
  },
  {
   "cell_type": "markdown",
   "metadata": {},
   "source": [
    "### quitando n/a de los nombres y juntando columnas nombres y apellidos de los infractores"
   ]
  },
  {
   "cell_type": "code",
   "execution_count": 7,
   "metadata": {},
   "outputs": [],
   "source": [
    "primnomsna= dataLimpio1[\"primnom\"].fillna(value=\"\")\n",
    "segnomsna = dataLimpio1[\"segnom\"].fillna(value=\"\")\n",
    "primapellna = dataLimpio1[\"primapell\"].fillna(value=\"\")\n",
    "segapellna = dataLimpio1[\"segapell\"].fillna(value=\"\")"
   ]
  },
  {
   "cell_type": "markdown",
   "metadata": {},
   "source": [
    "### juntando nombres y apellidos para encontrar frecuencias de repeticion"
   ]
  },
  {
   "cell_type": "code",
   "execution_count": 8,
   "metadata": {},
   "outputs": [
    {
     "data": {
      "text/plain": [
       "0                        CALAZAN  SALAZ \n",
       "1              LUIS CARLOS PEREZ ESCOBAR\n",
       "2        FERNANDO ANDRES BOHORQUEZ NUÑEZ\n",
       "3        FERNANDO ANDRES BOHORQUEZ NUÑEZ\n",
       "4          KEVIN JOHAN GUTIERREZ RAMIREZ\n",
       "                      ...               \n",
       "8581            GALLEGO     WILMER PEREA\n",
       "8582         YESID GONZALO MACILLA NAVAS\n",
       "8583    GUILLERMO ANDRES FERREIRA RIVERA\n",
       "8584            JHONNY  ALEXANDER CRESPO\n",
       "8585               ANDRES F TOSCANO VEGA\n",
       "Name: nameapell, Length: 8586, dtype: object"
      ]
     },
     "execution_count": 8,
     "metadata": {},
     "output_type": "execute_result"
    }
   ],
   "source": [
    "dataLimpio1[\"nameapell\"] = primnomsna.astype(str) + \" \" +segnomsna.astype(str)+ \" \" + primapellna.astype(str)+ \" \" + segapellna.astype(str)\n",
    "dataLimpio1[\"nameapell\"]"
   ]
  },
  {
   "cell_type": "code",
   "execution_count": 15,
   "metadata": {},
   "outputs": [
    {
     "data": {
      "image/png": "[encoded data removed]",
      "text/plain": [
       "<Figure size 432x288 with 1 Axes>"
      ]
     },
     "metadata": {
      "needs_background": "light"
     },
     "output_type": "display_data"
    }
   ],
   "source": [
    "plt.title('nombres/infraccion')\n",
    "plt.hist(dataLimpio1[\"nameapell\"])\n",
    "plt.show()"
   ]
  },
  {
   "cell_type": "markdown",
   "metadata": {},
   "source": [
    "### hay demasiados, probando con mas limpieza:"
   ]
  },
  {
   "cell_type": "code",
   "execution_count": 51,
   "metadata": {},
   "outputs": [
    {
     "data": {
      "text/html": [
       "<div>\n",
       "<style scoped>\n",
       "    .dataframe tbody tr th:only-of-type {\n",
       "        vertical-align: middle;\n",
       "    }\n",
       "\n",
       "    .dataframe tbody tr th {\n",
       "        vertical-align: top;\n",
       "    }\n",
       "\n",
       "    .dataframe thead th {\n",
       "        text-align: right;\n",
       "    }\n",
       "</style>\n",
       "<table border=\"1\" class=\"dataframe\">\n",
       "  <thead>\n",
       "    <tr style=\"text-align: right;\">\n",
       "      <th></th>\n",
       "      <th>nombres</th>\n",
       "      <th>frecuencia</th>\n",
       "    </tr>\n",
       "  </thead>\n",
       "  <tbody>\n",
       "    <tr>\n",
       "      <th>0</th>\n",
       "      <td>CALAZAN  SALAZ</td>\n",
       "      <td>1</td>\n",
       "    </tr>\n",
       "    <tr>\n",
       "      <th>1</th>\n",
       "      <td>LUIS CARLOS PEREZ ESCOBAR</td>\n",
       "      <td>1</td>\n",
       "    </tr>\n",
       "    <tr>\n",
       "      <th>2</th>\n",
       "      <td>FERNANDO ANDRES BOHORQUEZ NUÑEZ</td>\n",
       "      <td>2</td>\n",
       "    </tr>\n",
       "    <tr>\n",
       "      <th>3</th>\n",
       "      <td>FERNANDO ANDRES BOHORQUEZ NUÑEZ</td>\n",
       "      <td>2</td>\n",
       "    </tr>\n",
       "    <tr>\n",
       "      <th>4</th>\n",
       "      <td>KEVIN JOHAN GUTIERREZ RAMIREZ</td>\n",
       "      <td>1</td>\n",
       "    </tr>\n",
       "  </tbody>\n",
       "</table>\n",
       "</div>"
      ],
      "text/plain": [
       "                           nombres  frecuencia\n",
       "0                  CALAZAN  SALAZ            1\n",
       "1        LUIS CARLOS PEREZ ESCOBAR           1\n",
       "2  FERNANDO ANDRES BOHORQUEZ NUÑEZ           2\n",
       "3  FERNANDO ANDRES BOHORQUEZ NUÑEZ           2\n",
       "4    KEVIN JOHAN GUTIERREZ RAMIREZ           1"
      ]
     },
     "execution_count": 51,
     "metadata": {},
     "output_type": "execute_result"
    }
   ],
   "source": [
    "#extraemos un nuevo dataset solo con los nombres y a este le añadimos la columna con su respectiva frecuencia\n",
    "namefilter = pd.DataFrame({\"nombres\":dataLimpio1[\"nameapell\"]})\n",
    "namefilter['frecuencia'] = namefilter['nombres'].map(namefilter['nombres'].value_counts()) \n",
    "namefilter.head()"
   ]
  },
  {
   "cell_type": "code",
   "execution_count": 43,
   "metadata": {},
   "outputs": [
    {
     "data": {
      "image/png": "[encoded data removed]",
      "text/plain": [
       "<Figure size 432x288 with 1 Axes>"
      ]
     },
     "metadata": {
      "needs_background": "light"
     },
     "output_type": "display_data"
    }
   ],
   "source": [
    "plt.title('nombres/infraccion')\n",
    "plt.hist(namefilter['frecuencia'])\n",
    "plt.show()"
   ]
  },
  {
   "cell_type": "code",
   "execution_count": 41,
   "metadata": {},
   "outputs": [
    {
     "data": {
      "text/plain": [
       "<matplotlib.axes._subplots.AxesSubplot at 0x1a9b3169b48>"
      ]
     },
     "execution_count": 41,
     "metadata": {},
     "output_type": "execute_result"
    },
    {
     "data": {
      "image/png": "[encoded data removed]",
      "text/plain": [
       "<Figure size 432x288 with 1 Axes>"
      ]
     },
     "metadata": {
      "needs_background": "light"
     },
     "output_type": "display_data"
    }
   ],
   "source": [
    "boxplot(namefilter.frecuencia)"
   ]
  },
  {
   "cell_type": "code",
   "execution_count": null,
   "metadata": {},
   "outputs": [],
   "source": []
  }
 ],
 "metadata": {
  "kernelspec": {
   "display_name": "Python 3",
   "language": "python",
   "name": "python3"
  },
  "language_info": {
   "codemirror_mode": {
    "name": "ipython",
    "version": 3
   },
   "file_extension": ".py",
   "mimetype": "text/x-python",
   "name": "python",
   "nbconvert_exporter": "python",
   "pygments_lexer": "ipython3",
   "version": "3.7.5"
  }
 },
 "nbformat": 4,
 "nbformat_minor": 2
}
