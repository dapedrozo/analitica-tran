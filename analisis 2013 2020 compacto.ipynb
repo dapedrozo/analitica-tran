{
 "cells": [
  {
   "cell_type": "code",
   "execution_count": 1,
   "metadata": {},
   "outputs": [],
   "source": [
    "import pandas as pd\n",
    "import matplotlib.pyplot as plt\n",
    "from pylab import *\n",
    "from seaborn import lmplot\n",
    "from seaborn import distplot\n",
    "from seaborn import boxplot"
   ]
  },
  {
   "cell_type": "code",
   "execution_count": 2,
   "metadata": {},
   "outputs": [
    {
     "data": {
      "text/plain": [
       "['2020', '2019', '2018', '2017', '2016', '2015', '2014', '2013']"
      ]
     },
     "execution_count": 2,
     "metadata": {},
     "output_type": "execute_result"
    }
   ],
   "source": [
    "#carga datos generales\n",
    "data = pd.ExcelFile('malla comparendos 2013 al 2020.xlsx')\n",
    "data.sheet_names"
   ]
  },
  {
   "cell_type": "code",
   "execution_count": 26,
   "metadata": {},
   "outputs": [],
   "source": [
    "#carga runt\n",
    "runtgeneral = pd.read_excel('runt.xlsx')"
   ]
  },
  {
   "cell_type": "code",
   "execution_count": 3,
   "metadata": {},
   "outputs": [],
   "source": [
    "#inicia la separacion de todas las hojas de datos generales en varios df\n",
    "sheet_to_df_map = {}\n",
    "for nombre_hoja in data.sheet_names:\n",
    "    sheet_to_df_map[nombre_hoja] = data.parse(nombre_hoja)"
   ]
  },
  {
   "cell_type": "code",
   "execution_count": 4,
   "metadata": {},
   "outputs": [
    {
     "data": {
      "text/plain": [
       "(58587, 46768, 43509, 47763, 49028, 58593, 62783, 8594)"
      ]
     },
     "execution_count": 4,
     "metadata": {},
     "output_type": "execute_result"
    }
   ],
   "source": [
    "#separando las hojas en distintos df\n",
    "df1 = sheet_to_df_map['2013']\n",
    "df2 = sheet_to_df_map['2014']\n",
    "df3 = sheet_to_df_map['2015']\n",
    "df4 = sheet_to_df_map['2016']\n",
    "df5 = sheet_to_df_map['2017']\n",
    "df6 = sheet_to_df_map['2018']\n",
    "df7 = sheet_to_df_map['2019']\n",
    "df8 = sheet_to_df_map['2020']\n",
    "len(df1),len(df2), len(df3),len(df4),len(df5),len(df6),len(df7),len(df8)"
   ]
  },
  {
   "cell_type": "code",
   "execution_count": 22,
   "metadata": {},
   "outputs": [
    {
     "name": "stdout",
     "output_type": "stream",
     "text": [
      "375625\n"
     ]
    }
   ],
   "source": [
    "totaldatos = len(df1)+len(df2)+len(df3)+len(df4)+len(df5)+len(df6)+len(df7)+len(df8)\n",
    "print(totaldatos)"
   ]
  },
  {
   "cell_type": "code",
   "execution_count": 32,
   "metadata": {},
   "outputs": [
    {
     "data": {
      "text/plain": [
       "376209"
      ]
     },
     "execution_count": 32,
     "metadata": {},
     "output_type": "execute_result"
    }
   ],
   "source": [
    "len(runtgeneral)"
   ]
  },
  {
   "cell_type": "code",
   "execution_count": 33,
   "metadata": {},
   "outputs": [
    {
     "name": "stdout",
     "output_type": "stream",
     "text": [
      "584\n"
     ]
    }
   ],
   "source": [
    "diferencia = len(runtgeneral)-(len(df1)+len(df2)+len(df3)+len(df4)+len(df5)+len(df6)+len(df7)+len(df8))\n",
    "print(diferencia)"
   ]
  },
  {
   "cell_type": "code",
   "execution_count": 24,
   "metadata": {},
   "outputs": [
    {
     "data": {
      "text/plain": [
       "(57, 57, 57, 57, 57, 57, 57, 57)"
      ]
     },
     "execution_count": 24,
     "metadata": {},
     "output_type": "execute_result"
    }
   ],
   "source": [
    "#verificando la cantidad de columnas que tiene cada df\n",
    "pim1 = df1.columns.values.tolist()\n",
    "pim2 = df1.columns.values.tolist()\n",
    "pim3 = df1.columns.values.tolist()\n",
    "pim4 = df1.columns.values.tolist()\n",
    "pim5 = df1.columns.values.tolist()\n",
    "pim6 = df1.columns.values.tolist()\n",
    "pim7 = df1.columns.values.tolist()\n",
    "pim8 = df1.columns.values.tolist()\n",
    "len(pim1),len(pim2),len(pim3),len(pim4),len(pim5),len(pim6),len(pim7),len(pim8)"
   ]
  },
  {
   "cell_type": "code",
   "execution_count": 25,
   "metadata": {},
   "outputs": [
    {
     "data": {
      "text/plain": [
       "(57, 57, 57, 57, 57, 57, 57)"
      ]
     },
     "execution_count": 25,
     "metadata": {},
     "output_type": "execute_result"
    }
   ],
   "source": [
    "#verificando que todos los df tengan los mismos nombres de columnas\n",
    "pim9 = set(df1.columns.values).intersection(set(df2.columns.values))\n",
    "pim10 = set(df1.columns.values).intersection(set(df3.columns.values))\n",
    "pim11 = set(df1.columns.values).intersection(set(df4.columns.values))\n",
    "pim12 = set(df1.columns.values).intersection(set(df5.columns.values))\n",
    "pim13 = set(df1.columns.values).intersection(set(df6.columns.values))\n",
    "pim14 = set(df1.columns.values).intersection(set(df7.columns.values))\n",
    "pim15 = set(df1.columns.values).intersection(set(df8.columns.values))\n",
    "len(pim9),len(pim10),len(pim11),len(pim12),len(pim13),len(pim14),len(pim15)"
   ]
  },
  {
   "cell_type": "code",
   "execution_count": 20,
   "metadata": {},
   "outputs": [
    {
     "data": {
      "text/plain": [
       "Index(['numero comparendo', 'tipoc omparendo', 'fecha imposicion',\n",
       "       'hora imposicion', 'fecha notificacion', 'direccion infraccion',\n",
       "       'ciudad', 'infraccion', 'cepo', 'metrolinea', 'chaleco', 'casco',\n",
       "       'pico y placa', 'resolucion_111', 'licencia transito', 'tipo documento',\n",
       "       'documento', 'inmovilizado', 'grua', 'usuario', 'placaagente',\n",
       "       'entidad', 'nombre agente', 'estado', 'tipo resolucion',\n",
       "       'numero resolucion', 'fecha resolucion', 'fecha pago', 'fecha acuerdo',\n",
       "       'placa vehiculo', 'primer nombre', 'segundo nombre', 'primer apellido',\n",
       "       'segundo apellido', 'celular', 'direccion infractor', 'nombre',\n",
       "       'valor comparendo', 'saldo', 'valor pagado', 'curso', 'tipo curso',\n",
       "       'grado', 'clase vehiculo', 'tipo servicio', 'fecha ingreso patio',\n",
       "       'entregado patio', 'fecha entrega patio', 'cargo salida patio',\n",
       "       'funcionario salida patio', 'fecha solicitud audiencia',\n",
       "       'fecha audiencia', 'asistencia audiencia', 'inspeccion audiencia',\n",
       "       'funcionario audiencia', 'licencia suspendida', 'licencia cancelada'],\n",
       "      dtype='object')"
      ]
     },
     "execution_count": 20,
     "metadata": {},
     "output_type": "execute_result"
    }
   ],
   "source": [
    "#ya sabemos que todos los df tienen los mismos nombres de columnas\n",
    "df1.columns"
   ]
  },
  {
   "cell_type": "code",
   "execution_count": 41,
   "metadata": {},
   "outputs": [],
   "source": [
    "#concatenando todos los df en uno solo\n",
    "#forma de concatenar 1 por 1 para pcs mas lentos todavia: df1.append(df2, ignore_index = True)\n",
    "todogeneral = pd.concat([df1, df2, df3, df4, df5, df6, df7, df8], axis=0, ignore_index = True)"
   ]
  },
  {
   "cell_type": "code",
   "execution_count": 42,
   "metadata": {},
   "outputs": [],
   "source": [
    "#cambiando los nombres de todas las columnas de dfs de datos generales\n",
    "todogeneral.columns=['ncomp','tcomp','fcomp','hcomp','fnotifi','dirinfrac','ciudad','infrac','cepo','metro','chale','casco','pico','resolu111','licencia','tipodoc','ncedula','inmobi','grua','usuario','placaa','entidad','nomagen','estado','tiresol','nresol','fresol','fpago','facuerdo','placa','primnom','segnom','primapell','segapell','cel','dirinfractor','name','valorcomp','saldo','valpag','curso','ticurso','grado','clasvehicu','classervicio','fingrepatio','entrepatio','fentrepatio','cargsalipatio','funciosalipatio','fsolaudien','faudien','asistenaudien','inspeccaudien','funcioaudien','licensuspen','licencance']"
   ]
  },
  {
   "cell_type": "code",
   "execution_count": 43,
   "metadata": {},
   "outputs": [],
   "source": [
    "#cambiando los nombres de todas las columnas del runt\n",
    "runtgeneral.columns=['placa','ncomp','tcomp','docinfrac','cedulainfrac','docprop','cedulaprop','estado','dircasainfrac','municasainfrac','depcasainfrac','celinfrac','dircasaprop','municasaprop','depcasaprop','celprop']"
   ]
  },
  {
   "cell_type": "code",
   "execution_count": 44,
   "metadata": {},
   "outputs": [],
   "source": [
    "#eliminando na de las columnas que vamos a escoger\n",
    "primnomsna= todogeneral[\"primnom\"].fillna(value=\"\")\n",
    "primapellna = todogeneral[\"primapell\"].fillna(value=\"\")\n",
    "segapellna = todogeneral[\"segapell\"].fillna(value=\"\")\n",
    "todogeneral[\"dirinfractor\"] = todogeneral[\"dirinfractor\"].fillna(value=\"\")\n",
    "todogeneral[\"dirinfrac\"] = todogeneral[\"dirinfrac\"].fillna(value=\"\")\n",
    "todogeneral[\"fcomp\"] = todogeneral[\"fcomp\"].fillna(value=0)\n",
    "todogeneral[\"hcomp\"] = todogeneral[\"hcomp\"].fillna(value=0)\n",
    "todogeneral[\"valorcomp\"] = todogeneral[\"valorcomp\"].fillna(value=0)\n",
    "todogeneral[\"valpag\"] = todogeneral[\"valpag\"].fillna(value=0)\n",
    "todogeneral[\"cel\"] = todogeneral[\"cel\"].fillna(value=0)\n",
    "todogeneral[\"ncedula\"] = todogeneral[\"ncedula\"].fillna(value=0)\n",
    "todogeneral[\"placa\"] = todogeneral[\"placa\"].fillna(value=0)\n",
    "\n",
    "runtgeneral[\"cedulainfrac\"] = runtgeneral[\"cedulainfrac\"].fillna(value=0)\n",
    "runtgeneral[\"cedulaprop\"] = runtgeneral[\"cedulaprop\"].fillna(value=0)\n",
    "runtgeneral[\"placa\"] = runtgeneral[\"placa\"].fillna(value=0)\n",
    "runtgeneral[\"dircasainfrac\"] = runtgeneral[\"dircasainfrac\"].fillna(value=\"\")\n",
    "runtgeneral[\"dircasaprop\"] = runtgeneral[\"dircasaprop\"].fillna(value=\"\")\n",
    "runtgeneral[\"celinfrac\"] = runtgeneral[\"celinfrac\"].fillna(value=0)\n",
    "runtgeneral[\"celprop\"] = runtgeneral[\"celprop\"].fillna(value=0)"
   ]
  },
  {
   "cell_type": "code",
   "execution_count": 45,
   "metadata": {},
   "outputs": [],
   "source": [
    "todogeneral[\"nameapell\"] = primnomsna.astype(str)+\" \"+ primapellna.astype(str)+ \" \" + segapellna.astype(str)"
   ]
  },
  {
   "cell_type": "code",
   "execution_count": 46,
   "metadata": {},
   "outputs": [],
   "source": [
    "personacomp = pd.DataFrame({\"nombres\":todogeneral[\"nameapell\"],\"cedula\":todogeneral[\"ncedula\"],\n",
    "                            \"placa\":todogeneral[\"placa\"],\"dircasainfractor\":todogeneral[\"dirinfractor\"],\n",
    "                            \"dirinfraccion\":todogeneral[\"dirinfrac\"],\"fechacomp\":todogeneral[\"fcomp\"],\n",
    "                            \"horacomp\":todogeneral[\"hcomp\"],\"valorcomp\":todogeneral[\"valorcomp\"],\n",
    "                            \"valorpaga\":todogeneral[\"valpag\"],\"celinfractor\":todogeneral[\"cel\"]})\n",
    "personarunt = pd.DataFrame({\"placa\":runtgeneral[\"placa\"],\"cedulainfractor\":runtgeneral[\"cedulainfrac\"],\n",
    "                            \"cedulapropietario\":runtgeneral[\"cedulaprop\"],\"dircasainfractor\":runtgeneral[\"dircasainfrac\"],\n",
    "                            \"dircasapropietario\":runtgeneral[\"dircasaprop\"],\"celinfractor\":runtgeneral[\"celinfrac\"],\n",
    "                            \"celpropietario\":runtgeneral[\"celprop\"]})\n",
    "\n",
    "\n",
    "personacomp['frecuencianombre'] = personacomp['nombres'].map(personacomp['nombres'].value_counts()) \n",
    "personacomp['frecuenciaplacacomp'] = personacomp['placa'].map(personacomp['placa'].value_counts())\n",
    "personarunt['frecuenciaplacarunt'] = personarunt['placa'].map(personarunt['placa'].value_counts())\n",
    "personarunt['freqcedulainfractor'] = personarunt['cedulainfractor'].map(personarunt['cedulainfractor'].value_counts())\n",
    "personarunt['freqcedulapropietario'] = personarunt['cedulapropietario'].map(personarunt['cedulapropietario'].value_counts())"
   ]
  },
  {
   "cell_type": "code",
   "execution_count": 47,
   "metadata": {},
   "outputs": [
    {
     "data": {
      "text/plain": [
       "147683"
      ]
     },
     "execution_count": 47,
     "metadata": {},
     "output_type": "execute_result"
    }
   ],
   "source": [
    "filtrocomp = personacomp[(personacomp[\"frecuenciaplacacomp\"]>2)]\n",
    "len(filtrocomp)"
   ]
  },
  {
   "cell_type": "code",
   "execution_count": 55,
   "metadata": {},
   "outputs": [
    {
     "data": {
      "text/plain": [
       "count    147683.000000\n",
       "mean          5.219931\n",
       "std           6.588651\n",
       "min           3.000000\n",
       "25%           3.000000\n",
       "50%           4.000000\n",
       "75%           5.000000\n",
       "max         142.000000\n",
       "Name: frecuenciaplacacomp, dtype: float64"
      ]
     },
     "execution_count": 55,
     "metadata": {},
     "output_type": "execute_result"
    }
   ],
   "source": [
    "filtrocomp.frecuenciaplacacomp.describe()"
   ]
  },
  {
   "cell_type": "code",
   "execution_count": 54,
   "metadata": {},
   "outputs": [
    {
     "data": {
      "text/plain": [
       "(147683, 376209)"
      ]
     },
     "execution_count": 54,
     "metadata": {},
     "output_type": "execute_result"
    }
   ],
   "source": [
    "personacreducida = pd.DataFrame({\"placa\":filtrocomp['placa'],\"cedulamalla\":filtrocomp['cedula'],\n",
    "                                 \"nombres\":filtrocomp['nombres'],\"fecha\":filtrocomp['fechacomp']})\n",
    "\n",
    "personarreducida = pd.DataFrame({\"placa\":personarunt['placa'],\"cedulainfractor\":personarunt['cedulainfractor'],\n",
    "                                 \"cedulapropietario\":personarunt['cedulapropietario']})\n",
    "len(personacreducida),len(personarreducida)"
   ]
  },
  {
   "cell_type": "code",
   "execution_count": 53,
   "metadata": {},
   "outputs": [
    {
     "data": {
      "text/plain": [
       "771620"
      ]
     },
     "execution_count": 53,
     "metadata": {},
     "output_type": "execute_result"
    }
   ],
   "source": [
    "intersect = personacreducida.merge(personarreducida, how='inner')\n",
    "len(intersect)"
   ]
  },
  {
   "cell_type": "code",
   "execution_count": 52,
   "metadata": {},
   "outputs": [
    {
     "data": {
      "text/html": [
       "<div>\n",
       "<style scoped>\n",
       "    .dataframe tbody tr th:only-of-type {\n",
       "        vertical-align: middle;\n",
       "    }\n",
       "\n",
       "    .dataframe tbody tr th {\n",
       "        vertical-align: top;\n",
       "    }\n",
       "\n",
       "    .dataframe thead th {\n",
       "        text-align: right;\n",
       "    }\n",
       "</style>\n",
       "<table border=\"1\" class=\"dataframe\">\n",
       "  <thead>\n",
       "    <tr style=\"text-align: right;\">\n",
       "      <th></th>\n",
       "      <th>placa</th>\n",
       "      <th>cedulamalla</th>\n",
       "      <th>nombres</th>\n",
       "      <th>fecha</th>\n",
       "      <th>cedulainfractor</th>\n",
       "      <th>cedulapropietario</th>\n",
       "    </tr>\n",
       "  </thead>\n",
       "  <tbody>\n",
       "    <tr>\n",
       "      <td>1</td>\n",
       "      <td>OEP70B</td>\n",
       "      <td>9.12425e+07</td>\n",
       "      <td>CARLOS RODRIGUEZ SEPULVEDA</td>\n",
       "      <td>2013-01-01</td>\n",
       "      <td>91242453</td>\n",
       "      <td>91233395</td>\n",
       "    </tr>\n",
       "    <tr>\n",
       "      <td>2</td>\n",
       "      <td>OEP70B</td>\n",
       "      <td>9.12425e+07</td>\n",
       "      <td>CARLOS RODRIGUEZ SEPULVEDA</td>\n",
       "      <td>2013-01-01</td>\n",
       "      <td>91242453</td>\n",
       "      <td>91233395</td>\n",
       "    </tr>\n",
       "    <tr>\n",
       "      <td>3</td>\n",
       "      <td>OEP70B</td>\n",
       "      <td>9.12425e+07</td>\n",
       "      <td>CARLOS RODRIGUEZ SEPULVEDA</td>\n",
       "      <td>2013-01-01</td>\n",
       "      <td>91242453</td>\n",
       "      <td>91233395</td>\n",
       "    </tr>\n",
       "    <tr>\n",
       "      <td>5</td>\n",
       "      <td>OEP70B</td>\n",
       "      <td>9.12425e+07</td>\n",
       "      <td>CARLOS RODRIGUEZ SEPULVEDA</td>\n",
       "      <td>2013-01-01</td>\n",
       "      <td>91242453</td>\n",
       "      <td>91233395</td>\n",
       "    </tr>\n",
       "    <tr>\n",
       "      <td>6</td>\n",
       "      <td>OEP70B</td>\n",
       "      <td>9.12425e+07</td>\n",
       "      <td>CARLOS RODRIGUEZ SEPULVEDA</td>\n",
       "      <td>2013-01-01</td>\n",
       "      <td>91242453</td>\n",
       "      <td>91233395</td>\n",
       "    </tr>\n",
       "    <tr>\n",
       "      <td>...</td>\n",
       "      <td>...</td>\n",
       "      <td>...</td>\n",
       "      <td>...</td>\n",
       "      <td>...</td>\n",
       "      <td>...</td>\n",
       "      <td>...</td>\n",
       "    </tr>\n",
       "    <tr>\n",
       "      <td>771599</td>\n",
       "      <td>EMB37F</td>\n",
       "      <td>1098717939</td>\n",
       "      <td>JESUS LEON MONSALVE</td>\n",
       "      <td>2020-01-31</td>\n",
       "      <td>1098717939</td>\n",
       "      <td>10986457</td>\n",
       "    </tr>\n",
       "    <tr>\n",
       "      <td>771600</td>\n",
       "      <td>EMB37F</td>\n",
       "      <td>1098717939</td>\n",
       "      <td>JESUS LEON MONSALVE</td>\n",
       "      <td>2020-01-31</td>\n",
       "      <td>1098717939</td>\n",
       "      <td>10986457</td>\n",
       "    </tr>\n",
       "    <tr>\n",
       "      <td>771601</td>\n",
       "      <td>EMB37F</td>\n",
       "      <td>1098717939</td>\n",
       "      <td>JESUS LEON MONSALVE</td>\n",
       "      <td>2020-01-31</td>\n",
       "      <td>1098717939</td>\n",
       "      <td>10986457</td>\n",
       "    </tr>\n",
       "    <tr>\n",
       "      <td>771602</td>\n",
       "      <td>EMB37F</td>\n",
       "      <td>1098717939</td>\n",
       "      <td>JESUS LEON MONSALVE</td>\n",
       "      <td>2020-01-31</td>\n",
       "      <td>1098717939</td>\n",
       "      <td>10986457</td>\n",
       "    </tr>\n",
       "    <tr>\n",
       "      <td>771603</td>\n",
       "      <td>EMB37F</td>\n",
       "      <td>1098717939</td>\n",
       "      <td>JESUS LEON MONSALVE</td>\n",
       "      <td>2020-01-31</td>\n",
       "      <td>1098717939</td>\n",
       "      <td>10986457</td>\n",
       "    </tr>\n",
       "  </tbody>\n",
       "</table>\n",
       "<p>620390 rows × 6 columns</p>\n",
       "</div>"
      ],
      "text/plain": [
       "         placa  cedulamalla                     nombres      fecha  \\\n",
       "1       OEP70B  9.12425e+07  CARLOS RODRIGUEZ SEPULVEDA 2013-01-01   \n",
       "2       OEP70B  9.12425e+07  CARLOS RODRIGUEZ SEPULVEDA 2013-01-01   \n",
       "3       OEP70B  9.12425e+07  CARLOS RODRIGUEZ SEPULVEDA 2013-01-01   \n",
       "5       OEP70B  9.12425e+07  CARLOS RODRIGUEZ SEPULVEDA 2013-01-01   \n",
       "6       OEP70B  9.12425e+07  CARLOS RODRIGUEZ SEPULVEDA 2013-01-01   \n",
       "...        ...          ...                         ...        ...   \n",
       "771599  EMB37F   1098717939         JESUS LEON MONSALVE 2020-01-31   \n",
       "771600  EMB37F   1098717939         JESUS LEON MONSALVE 2020-01-31   \n",
       "771601  EMB37F   1098717939         JESUS LEON MONSALVE 2020-01-31   \n",
       "771602  EMB37F   1098717939         JESUS LEON MONSALVE 2020-01-31   \n",
       "771603  EMB37F   1098717939         JESUS LEON MONSALVE 2020-01-31   \n",
       "\n",
       "       cedulainfractor cedulapropietario  \n",
       "1             91242453          91233395  \n",
       "2             91242453          91233395  \n",
       "3             91242453          91233395  \n",
       "5             91242453          91233395  \n",
       "6             91242453          91233395  \n",
       "...                ...               ...  \n",
       "771599      1098717939          10986457  \n",
       "771600      1098717939          10986457  \n",
       "771601      1098717939          10986457  \n",
       "771602      1098717939          10986457  \n",
       "771603      1098717939          10986457  \n",
       "\n",
       "[620390 rows x 6 columns]"
      ]
     },
     "execution_count": 52,
     "metadata": {},
     "output_type": "execute_result"
    }
   ],
   "source": [
    "intersect[(intersect[\"cedulapropietario\"]!=0)]"
   ]
  },
  {
   "cell_type": "code",
   "execution_count": null,
   "metadata": {},
   "outputs": [],
   "source": [
    "df['count_B']=df.groupby(['group1','group2']).B.transform('count') "
   ]
  }
 ],
 "metadata": {
  "kernelspec": {
   "display_name": "Python 3",
   "language": "python",
   "name": "python3"
  },
  "language_info": {
   "codemirror_mode": {
    "name": "ipython",
    "version": 3
   },
   "file_extension": ".py",
   "mimetype": "text/x-python",
   "name": "python",
   "nbconvert_exporter": "python",
   "pygments_lexer": "ipython3",
   "version": "3.7.4"
  }
 },
 "nbformat": 4,
 "nbformat_minor": 2
}
