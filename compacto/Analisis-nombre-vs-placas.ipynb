{
 "cells": [
  {
   "cell_type": "code",
   "execution_count": 1,
   "metadata": {},
   "outputs": [],
   "source": [
    "import pandas as pd\n",
    "import matplotlib.pyplot as plt\n",
    "from pylab import *\n",
    "from seaborn import lmplot\n",
    "from seaborn import distplot\n",
    "from seaborn import boxplot"
   ]
  },
  {
   "cell_type": "markdown",
   "metadata": {},
   "source": [
    "# empezamos visualizando los datos originales"
   ]
  },
  {
   "cell_type": "code",
   "execution_count": 69,
   "metadata": {},
   "outputs": [
    {
     "data": {
      "text/html": [
       "<div>\n",
       "<style scoped>\n",
       "    .dataframe tbody tr th:only-of-type {\n",
       "        vertical-align: middle;\n",
       "    }\n",
       "\n",
       "    .dataframe tbody tr th {\n",
       "        vertical-align: top;\n",
       "    }\n",
       "\n",
       "    .dataframe thead th {\n",
       "        text-align: right;\n",
       "    }\n",
       "</style>\n",
       "<table border=\"1\" class=\"dataframe\">\n",
       "  <thead>\n",
       "    <tr style=\"text-align: right;\">\n",
       "      <th></th>\n",
       "      <th>numerocomparendo</th>\n",
       "      <th>tipocomparendo</th>\n",
       "      <th>fechaimposicion</th>\n",
       "      <th>horaimposicion</th>\n",
       "      <th>fechanotificacion</th>\n",
       "      <th>direccioninfraccion</th>\n",
       "      <th>ciudad</th>\n",
       "      <th>infraccion</th>\n",
       "      <th>cepo</th>\n",
       "      <th>metrolinea</th>\n",
       "      <th>...</th>\n",
       "      <th>nombre</th>\n",
       "      <th>valorcomp</th>\n",
       "      <th>saldo</th>\n",
       "      <th>valor_pagado</th>\n",
       "      <th>curso</th>\n",
       "      <th>tipo_curso</th>\n",
       "      <th>grado</th>\n",
       "      <th>numeroprueba</th>\n",
       "      <th>clasevehiculo</th>\n",
       "      <th>claseservicio</th>\n",
       "    </tr>\n",
       "  </thead>\n",
       "  <tbody>\n",
       "    <tr>\n",
       "      <th>0</th>\n",
       "      <td>68001000000024846502</td>\n",
       "      <td>Manual</td>\n",
       "      <td>2020-01-01</td>\n",
       "      <td>01:50:00</td>\n",
       "      <td>2020-01-01</td>\n",
       "      <td>CARRERA 3 OCC CALLE 59</td>\n",
       "      <td>BUCARAMANGA</td>\n",
       "      <td>F</td>\n",
       "      <td>NO</td>\n",
       "      <td>NO</td>\n",
       "      <td>...</td>\n",
       "      <td>BUCARAMANGA</td>\n",
       "      <td>5266800</td>\n",
       "      <td>0</td>\n",
       "      <td>NaN</td>\n",
       "      <td>NaN</td>\n",
       "      <td>NaN</td>\n",
       "      <td>1.0</td>\n",
       "      <td>NaN</td>\n",
       "      <td>Motocicleta</td>\n",
       "      <td>Particular</td>\n",
       "    </tr>\n",
       "    <tr>\n",
       "      <th>1</th>\n",
       "      <td>68001000000024846503</td>\n",
       "      <td>Manual</td>\n",
       "      <td>2020-01-01</td>\n",
       "      <td>02:15:00</td>\n",
       "      <td>2020-01-01</td>\n",
       "      <td>CARRERA 3 OCC CALLE 59</td>\n",
       "      <td>BUCARAMANGA</td>\n",
       "      <td>F</td>\n",
       "      <td>NO</td>\n",
       "      <td>NO</td>\n",
       "      <td>...</td>\n",
       "      <td>BUCARAMANGA</td>\n",
       "      <td>2633400</td>\n",
       "      <td>0</td>\n",
       "      <td>NaN</td>\n",
       "      <td>NaN</td>\n",
       "      <td>Interno</td>\n",
       "      <td>0.0</td>\n",
       "      <td>NaN</td>\n",
       "      <td>Motocicleta</td>\n",
       "      <td>Particular</td>\n",
       "    </tr>\n",
       "    <tr>\n",
       "      <th>2</th>\n",
       "      <td>68001000000024843956</td>\n",
       "      <td>Manual</td>\n",
       "      <td>2020-01-01</td>\n",
       "      <td>02:50:00</td>\n",
       "      <td>2020-01-01</td>\n",
       "      <td>AVENIDA VIA AL MAR TRASVERSAL CURVA DE LA VIRGEN</td>\n",
       "      <td>BUCARAMANGA</td>\n",
       "      <td>C14</td>\n",
       "      <td>NO</td>\n",
       "      <td>NO</td>\n",
       "      <td>...</td>\n",
       "      <td>BUCARAMANGA</td>\n",
       "      <td>438900</td>\n",
       "      <td>442239</td>\n",
       "      <td>NaN</td>\n",
       "      <td>NaN</td>\n",
       "      <td>Interno</td>\n",
       "      <td>NaN</td>\n",
       "      <td>NaN</td>\n",
       "      <td>Motocicleta</td>\n",
       "      <td>Particular</td>\n",
       "    </tr>\n",
       "    <tr>\n",
       "      <th>3</th>\n",
       "      <td>68001000000024843958</td>\n",
       "      <td>Manual</td>\n",
       "      <td>2020-01-01</td>\n",
       "      <td>02:50:00</td>\n",
       "      <td>2020-01-01</td>\n",
       "      <td>AVENIDA AL MAR TRASVERSAL CURVA VIRGEN</td>\n",
       "      <td>BUCARAMANGA</td>\n",
       "      <td>B01</td>\n",
       "      <td>NO</td>\n",
       "      <td>NO</td>\n",
       "      <td>...</td>\n",
       "      <td>BUCARAMANGA</td>\n",
       "      <td>234080</td>\n",
       "      <td>235861</td>\n",
       "      <td>NaN</td>\n",
       "      <td>NaN</td>\n",
       "      <td>NaN</td>\n",
       "      <td>NaN</td>\n",
       "      <td>NaN</td>\n",
       "      <td>Motocicleta</td>\n",
       "      <td>Particular</td>\n",
       "    </tr>\n",
       "    <tr>\n",
       "      <th>4</th>\n",
       "      <td>68001000000024846504</td>\n",
       "      <td>Manual</td>\n",
       "      <td>2020-01-01</td>\n",
       "      <td>02:50:00</td>\n",
       "      <td>2020-01-01</td>\n",
       "      <td>CARRERA 3W CALLE 59</td>\n",
       "      <td>BUCARAMANGA</td>\n",
       "      <td>F</td>\n",
       "      <td>NO</td>\n",
       "      <td>NO</td>\n",
       "      <td>...</td>\n",
       "      <td>BUCARAMANGA</td>\n",
       "      <td>5266800</td>\n",
       "      <td>0</td>\n",
       "      <td>NaN</td>\n",
       "      <td>NaN</td>\n",
       "      <td>NaN</td>\n",
       "      <td>1.0</td>\n",
       "      <td>NaN</td>\n",
       "      <td>Motocicleta</td>\n",
       "      <td>Particular</td>\n",
       "    </tr>\n",
       "  </tbody>\n",
       "</table>\n",
       "<p>5 rows × 47 columns</p>\n",
       "</div>"
      ],
      "text/plain": [
       "       numerocomparendo tipocomparendo fechaimposicion horaimposicion  \\\n",
       "0  68001000000024846502         Manual      2020-01-01       01:50:00   \n",
       "1  68001000000024846503         Manual      2020-01-01       02:15:00   \n",
       "2  68001000000024843956         Manual      2020-01-01       02:50:00   \n",
       "3  68001000000024843958         Manual      2020-01-01       02:50:00   \n",
       "4  68001000000024846504         Manual      2020-01-01       02:50:00   \n",
       "\n",
       "  fechanotificacion                                direccioninfraccion  \\\n",
       "0        2020-01-01                             CARRERA 3 OCC CALLE 59   \n",
       "1        2020-01-01                             CARRERA 3 OCC CALLE 59   \n",
       "2        2020-01-01   AVENIDA VIA AL MAR TRASVERSAL CURVA DE LA VIRGEN   \n",
       "3        2020-01-01             AVENIDA AL MAR TRASVERSAL CURVA VIRGEN   \n",
       "4        2020-01-01                                CARRERA 3W CALLE 59   \n",
       "\n",
       "        ciudad infraccion cepo metrolinea  ...       nombre valorcomp   saldo  \\\n",
       "0  BUCARAMANGA          F   NO         NO  ...  BUCARAMANGA   5266800       0   \n",
       "1  BUCARAMANGA          F   NO         NO  ...  BUCARAMANGA   2633400       0   \n",
       "2  BUCARAMANGA        C14   NO         NO  ...  BUCARAMANGA    438900  442239   \n",
       "3  BUCARAMANGA        B01   NO         NO  ...  BUCARAMANGA    234080  235861   \n",
       "4  BUCARAMANGA          F   NO         NO  ...  BUCARAMANGA   5266800       0   \n",
       "\n",
       "  valor_pagado curso tipo_curso grado numeroprueba clasevehiculo claseservicio  \n",
       "0          NaN   NaN        NaN   1.0          NaN   Motocicleta    Particular  \n",
       "1          NaN   NaN    Interno   0.0          NaN   Motocicleta    Particular  \n",
       "2          NaN   NaN    Interno   NaN          NaN   Motocicleta    Particular  \n",
       "3          NaN   NaN        NaN   NaN          NaN   Motocicleta    Particular  \n",
       "4          NaN   NaN        NaN   1.0          NaN   Motocicleta    Particular  \n",
       "\n",
       "[5 rows x 47 columns]"
      ]
     },
     "execution_count": 69,
     "metadata": {},
     "output_type": "execute_result"
    }
   ],
   "source": [
    "dataLimpio1 = pd.read_excel('Datos Contravencional 2020.xlsx')\n",
    "dataLimpio1.head()"
   ]
  },
  {
   "cell_type": "markdown",
   "metadata": {},
   "source": [
    "### longitud del dataset para asegurarnos que todos los datos cargaron correctamente"
   ]
  },
  {
   "cell_type": "code",
   "execution_count": 3,
   "metadata": {},
   "outputs": [
    {
     "data": {
      "text/plain": [
       "8586"
      ]
     },
     "execution_count": 3,
     "metadata": {},
     "output_type": "execute_result"
    }
   ],
   "source": [
    "len(dataLimpio1)"
   ]
  },
  {
   "cell_type": "code",
   "execution_count": 4,
   "metadata": {},
   "outputs": [
    {
     "data": {
      "text/plain": [
       "Index(['numerocomparendo', 'tipocomparendo', 'fechaimposicion',\n",
       "       'horaimposicion', 'fechanotificacion', 'direccioninfraccion', 'ciudad',\n",
       "       'infraccion', 'cepo', 'metrolinea', 'chaleco', 'casco', 'pico',\n",
       "       'restriccion_motocicleta', 'resolucion_111', 'licenciatransito',\n",
       "       'tipodoc', 'documento', 'inmovilizado', 'grua', 'usuario', 'placaa',\n",
       "       'entidad', 'nombreagente', 'estado', 'tipo_resolucion',\n",
       "       'numero_resolucion', 'fecha_documento', 'fecha_pago', 'fecha_acuerdo',\n",
       "       'placac', 'primernombre', 'segundonombre', 'primerapellido',\n",
       "       'segundoapellido', 'celular', 'direccioninfractor', 'nombre',\n",
       "       'valorcomp', 'saldo', 'valor_pagado', 'curso', 'tipo_curso', 'grado',\n",
       "       'numeroprueba', 'clasevehiculo', 'claseservicio'],\n",
       "      dtype='object')"
      ]
     },
     "execution_count": 4,
     "metadata": {},
     "output_type": "execute_result"
    }
   ],
   "source": [
    "dataLimpio1.columns"
   ]
  },
  {
   "cell_type": "markdown",
   "metadata": {},
   "source": [
    "### renombrando columnas para facil manipulacion"
   ]
  },
  {
   "cell_type": "code",
   "execution_count": 5,
   "metadata": {},
   "outputs": [],
   "source": [
    "dataLimpio1.columns=['ncomp','tcomp','fcomp','hcomp','fnotifi','dirinfrac','ciudad','infrac','cepo','metro','chale','casco','pico','restmot','resolu111','licencia','tipodoc','ncedula','inmobi','grua','usuario','placaa','entidad','nomagen','estado','tiresol','nresol','fdocu','fpago','facuerdo','placac','primnom','segnom','primapell','segapell','cel','dirinfractor','name','valorcomp','saldo','valpag','curso','ticurso','grado','nprueba','clasvehicu','classervicio']"
   ]
  },
  {
   "cell_type": "code",
   "execution_count": 6,
   "metadata": {},
   "outputs": [
    {
     "data": {
      "text/html": [
       "<div>\n",
       "<style scoped>\n",
       "    .dataframe tbody tr th:only-of-type {\n",
       "        vertical-align: middle;\n",
       "    }\n",
       "\n",
       "    .dataframe tbody tr th {\n",
       "        vertical-align: top;\n",
       "    }\n",
       "\n",
       "    .dataframe thead th {\n",
       "        text-align: right;\n",
       "    }\n",
       "</style>\n",
       "<table border=\"1\" class=\"dataframe\">\n",
       "  <thead>\n",
       "    <tr style=\"text-align: right;\">\n",
       "      <th></th>\n",
       "      <th>ncomp</th>\n",
       "      <th>tcomp</th>\n",
       "      <th>fcomp</th>\n",
       "      <th>hcomp</th>\n",
       "      <th>fnotifi</th>\n",
       "      <th>dirinfrac</th>\n",
       "      <th>ciudad</th>\n",
       "      <th>infrac</th>\n",
       "      <th>cepo</th>\n",
       "      <th>metro</th>\n",
       "      <th>...</th>\n",
       "      <th>name</th>\n",
       "      <th>valorcomp</th>\n",
       "      <th>saldo</th>\n",
       "      <th>valpag</th>\n",
       "      <th>curso</th>\n",
       "      <th>ticurso</th>\n",
       "      <th>grado</th>\n",
       "      <th>nprueba</th>\n",
       "      <th>clasvehicu</th>\n",
       "      <th>classervicio</th>\n",
       "    </tr>\n",
       "  </thead>\n",
       "  <tbody>\n",
       "    <tr>\n",
       "      <th>0</th>\n",
       "      <td>68001000000024846502</td>\n",
       "      <td>Manual</td>\n",
       "      <td>2020-01-01</td>\n",
       "      <td>01:50:00</td>\n",
       "      <td>2020-01-01</td>\n",
       "      <td>CARRERA 3 OCC CALLE 59</td>\n",
       "      <td>BUCARAMANGA</td>\n",
       "      <td>F</td>\n",
       "      <td>NO</td>\n",
       "      <td>NO</td>\n",
       "      <td>...</td>\n",
       "      <td>BUCARAMANGA</td>\n",
       "      <td>5266800</td>\n",
       "      <td>0</td>\n",
       "      <td>NaN</td>\n",
       "      <td>NaN</td>\n",
       "      <td>NaN</td>\n",
       "      <td>1.0</td>\n",
       "      <td>NaN</td>\n",
       "      <td>Motocicleta</td>\n",
       "      <td>Particular</td>\n",
       "    </tr>\n",
       "    <tr>\n",
       "      <th>1</th>\n",
       "      <td>68001000000024846503</td>\n",
       "      <td>Manual</td>\n",
       "      <td>2020-01-01</td>\n",
       "      <td>02:15:00</td>\n",
       "      <td>2020-01-01</td>\n",
       "      <td>CARRERA 3 OCC CALLE 59</td>\n",
       "      <td>BUCARAMANGA</td>\n",
       "      <td>F</td>\n",
       "      <td>NO</td>\n",
       "      <td>NO</td>\n",
       "      <td>...</td>\n",
       "      <td>BUCARAMANGA</td>\n",
       "      <td>2633400</td>\n",
       "      <td>0</td>\n",
       "      <td>NaN</td>\n",
       "      <td>NaN</td>\n",
       "      <td>Interno</td>\n",
       "      <td>0.0</td>\n",
       "      <td>NaN</td>\n",
       "      <td>Motocicleta</td>\n",
       "      <td>Particular</td>\n",
       "    </tr>\n",
       "    <tr>\n",
       "      <th>2</th>\n",
       "      <td>68001000000024843956</td>\n",
       "      <td>Manual</td>\n",
       "      <td>2020-01-01</td>\n",
       "      <td>02:50:00</td>\n",
       "      <td>2020-01-01</td>\n",
       "      <td>AVENIDA VIA AL MAR TRASVERSAL CURVA DE LA VIRGEN</td>\n",
       "      <td>BUCARAMANGA</td>\n",
       "      <td>C14</td>\n",
       "      <td>NO</td>\n",
       "      <td>NO</td>\n",
       "      <td>...</td>\n",
       "      <td>BUCARAMANGA</td>\n",
       "      <td>438900</td>\n",
       "      <td>442239</td>\n",
       "      <td>NaN</td>\n",
       "      <td>NaN</td>\n",
       "      <td>Interno</td>\n",
       "      <td>NaN</td>\n",
       "      <td>NaN</td>\n",
       "      <td>Motocicleta</td>\n",
       "      <td>Particular</td>\n",
       "    </tr>\n",
       "    <tr>\n",
       "      <th>3</th>\n",
       "      <td>68001000000024843958</td>\n",
       "      <td>Manual</td>\n",
       "      <td>2020-01-01</td>\n",
       "      <td>02:50:00</td>\n",
       "      <td>2020-01-01</td>\n",
       "      <td>AVENIDA AL MAR TRASVERSAL CURVA VIRGEN</td>\n",
       "      <td>BUCARAMANGA</td>\n",
       "      <td>B01</td>\n",
       "      <td>NO</td>\n",
       "      <td>NO</td>\n",
       "      <td>...</td>\n",
       "      <td>BUCARAMANGA</td>\n",
       "      <td>234080</td>\n",
       "      <td>235861</td>\n",
       "      <td>NaN</td>\n",
       "      <td>NaN</td>\n",
       "      <td>NaN</td>\n",
       "      <td>NaN</td>\n",
       "      <td>NaN</td>\n",
       "      <td>Motocicleta</td>\n",
       "      <td>Particular</td>\n",
       "    </tr>\n",
       "    <tr>\n",
       "      <th>4</th>\n",
       "      <td>68001000000024846504</td>\n",
       "      <td>Manual</td>\n",
       "      <td>2020-01-01</td>\n",
       "      <td>02:50:00</td>\n",
       "      <td>2020-01-01</td>\n",
       "      <td>CARRERA 3W CALLE 59</td>\n",
       "      <td>BUCARAMANGA</td>\n",
       "      <td>F</td>\n",
       "      <td>NO</td>\n",
       "      <td>NO</td>\n",
       "      <td>...</td>\n",
       "      <td>BUCARAMANGA</td>\n",
       "      <td>5266800</td>\n",
       "      <td>0</td>\n",
       "      <td>NaN</td>\n",
       "      <td>NaN</td>\n",
       "      <td>NaN</td>\n",
       "      <td>1.0</td>\n",
       "      <td>NaN</td>\n",
       "      <td>Motocicleta</td>\n",
       "      <td>Particular</td>\n",
       "    </tr>\n",
       "  </tbody>\n",
       "</table>\n",
       "<p>5 rows × 47 columns</p>\n",
       "</div>"
      ],
      "text/plain": [
       "                  ncomp   tcomp      fcomp     hcomp    fnotifi  \\\n",
       "0  68001000000024846502  Manual 2020-01-01  01:50:00 2020-01-01   \n",
       "1  68001000000024846503  Manual 2020-01-01  02:15:00 2020-01-01   \n",
       "2  68001000000024843956  Manual 2020-01-01  02:50:00 2020-01-01   \n",
       "3  68001000000024843958  Manual 2020-01-01  02:50:00 2020-01-01   \n",
       "4  68001000000024846504  Manual 2020-01-01  02:50:00 2020-01-01   \n",
       "\n",
       "                                           dirinfrac       ciudad infrac cepo  \\\n",
       "0                             CARRERA 3 OCC CALLE 59  BUCARAMANGA      F   NO   \n",
       "1                             CARRERA 3 OCC CALLE 59  BUCARAMANGA      F   NO   \n",
       "2   AVENIDA VIA AL MAR TRASVERSAL CURVA DE LA VIRGEN  BUCARAMANGA    C14   NO   \n",
       "3             AVENIDA AL MAR TRASVERSAL CURVA VIRGEN  BUCARAMANGA    B01   NO   \n",
       "4                                CARRERA 3W CALLE 59  BUCARAMANGA      F   NO   \n",
       "\n",
       "  metro  ...         name valorcomp   saldo valpag curso  ticurso grado  \\\n",
       "0    NO  ...  BUCARAMANGA   5266800       0    NaN   NaN      NaN   1.0   \n",
       "1    NO  ...  BUCARAMANGA   2633400       0    NaN   NaN  Interno   0.0   \n",
       "2    NO  ...  BUCARAMANGA    438900  442239    NaN   NaN  Interno   NaN   \n",
       "3    NO  ...  BUCARAMANGA    234080  235861    NaN   NaN      NaN   NaN   \n",
       "4    NO  ...  BUCARAMANGA   5266800       0    NaN   NaN      NaN   1.0   \n",
       "\n",
       "  nprueba   clasvehicu classervicio  \n",
       "0     NaN  Motocicleta   Particular  \n",
       "1     NaN  Motocicleta   Particular  \n",
       "2     NaN  Motocicleta   Particular  \n",
       "3     NaN  Motocicleta   Particular  \n",
       "4     NaN  Motocicleta   Particular  \n",
       "\n",
       "[5 rows x 47 columns]"
      ]
     },
     "execution_count": 6,
     "metadata": {},
     "output_type": "execute_result"
    }
   ],
   "source": [
    "dataLimpio1.head()"
   ]
  },
  {
   "cell_type": "markdown",
   "metadata": {},
   "source": [
    "### quitando n/a (datos vacios) de los nombres y juntando columnas nombres y apellidos de los infractores "
   ]
  },
  {
   "cell_type": "markdown",
   "metadata": {},
   "source": [
    "* por comodidad se trabajara con el primer nombre y los dos apellidos para cada conductor\n",
    "* sin embargo se deja el codigo comentado de la limpieza de la columna del segundo nombre por si se desea utilizar"
   ]
  },
  {
   "cell_type": "code",
   "execution_count": 7,
   "metadata": {},
   "outputs": [],
   "source": [
    "primnomsna= dataLimpio1[\"primnom\"].fillna(value=\"\")\n",
    "#segnomsna = dataLimpio1[\"segnom\"].fillna(value=\"\")\n",
    "primapellna = dataLimpio1[\"primapell\"].fillna(value=\"\")\n",
    "segapellna = dataLimpio1[\"segapell\"].fillna(value=\"\")\n",
    "cedula = dataLimpio1[\"ncedula\"].fillna(value=\"\")"
   ]
  },
  {
   "cell_type": "markdown",
   "metadata": {},
   "source": [
    "### concatenando nombres y apellidos para encontrar frecuencias de repeticion (es decir numero de partes que tiene cada persona)"
   ]
  },
  {
   "cell_type": "markdown",
   "metadata": {},
   "source": [
    "* Además verificamos que la longitud del dataset sea la misma que habiamos cargado originalmente, asi nos aseguramos que no perdemos ningun dato"
   ]
  },
  {
   "cell_type": "code",
   "execution_count": 8,
   "metadata": {},
   "outputs": [
    {
     "data": {
      "text/plain": [
       "0                  CALAZAN SALAZ \n",
       "1              LUIS PEREZ ESCOBAR\n",
       "2        FERNANDO BOHORQUEZ NUÑEZ\n",
       "3        FERNANDO BOHORQUEZ NUÑEZ\n",
       "4         KEVIN GUTIERREZ RAMIREZ\n",
       "                  ...            \n",
       "8581                 WILMER PEREA\n",
       "8582          YESID MACILLA NAVAS\n",
       "8583    GUILLERMO FERREIRA RIVERA\n",
       "8584      JHONNY ALEXANDER CRESPO\n",
       "8585          ANDRES TOSCANO VEGA\n",
       "Name: nameapell, Length: 8586, dtype: object"
      ]
     },
     "execution_count": 8,
     "metadata": {},
     "output_type": "execute_result"
    }
   ],
   "source": [
    "dataLimpio1[\"nameapell\"] = primnomsna.astype(str)+\" \"+ primapellna.astype(str)+ \" \" + segapellna.astype(str)\n",
    "dataLimpio1[\"nameapell\"]"
   ]
  },
  {
   "cell_type": "markdown",
   "metadata": {},
   "source": [
    "### como hay bastantes, para obtener una grafica ahora, debemos limpiar mas el dataset:"
   ]
  },
  {
   "cell_type": "markdown",
   "metadata": {},
   "source": [
    "* extraemos un nuevo dataset solo con los nombres\n",
    "* le añadimos la columna con su respectiva frecuencia\n",
    "* le añadimos la placa que tenia en el momento de la infracción y la frecuencia de la placa"
   ]
  },
  {
   "cell_type": "code",
   "execution_count": 9,
   "metadata": {},
   "outputs": [
    {
     "data": {
      "text/html": [
       "<div>\n",
       "<style scoped>\n",
       "    .dataframe tbody tr th:only-of-type {\n",
       "        vertical-align: middle;\n",
       "    }\n",
       "\n",
       "    .dataframe tbody tr th {\n",
       "        vertical-align: top;\n",
       "    }\n",
       "\n",
       "    .dataframe thead th {\n",
       "        text-align: right;\n",
       "    }\n",
       "</style>\n",
       "<table border=\"1\" class=\"dataframe\">\n",
       "  <thead>\n",
       "    <tr style=\"text-align: right;\">\n",
       "      <th></th>\n",
       "      <th>nombres</th>\n",
       "      <th>placac</th>\n",
       "      <th>cedula</th>\n",
       "      <th>frecuencianom</th>\n",
       "      <th>frecuenciaplaca</th>\n",
       "    </tr>\n",
       "  </thead>\n",
       "  <tbody>\n",
       "    <tr>\n",
       "      <th>0</th>\n",
       "      <td>CALAZAN SALAZ</td>\n",
       "      <td>KPB74E</td>\n",
       "      <td>13889512</td>\n",
       "      <td>1</td>\n",
       "      <td>1.0</td>\n",
       "    </tr>\n",
       "    <tr>\n",
       "      <th>1</th>\n",
       "      <td>LUIS PEREZ ESCOBAR</td>\n",
       "      <td>HEO71D</td>\n",
       "      <td>72048921</td>\n",
       "      <td>1</td>\n",
       "      <td>1.0</td>\n",
       "    </tr>\n",
       "    <tr>\n",
       "      <th>2</th>\n",
       "      <td>FERNANDO BOHORQUEZ NUÑEZ</td>\n",
       "      <td>SKS94B</td>\n",
       "      <td>1102720175</td>\n",
       "      <td>2</td>\n",
       "      <td>2.0</td>\n",
       "    </tr>\n",
       "    <tr>\n",
       "      <th>3</th>\n",
       "      <td>FERNANDO BOHORQUEZ NUÑEZ</td>\n",
       "      <td>SKS94B</td>\n",
       "      <td>1102720175</td>\n",
       "      <td>2</td>\n",
       "      <td>2.0</td>\n",
       "    </tr>\n",
       "    <tr>\n",
       "      <th>4</th>\n",
       "      <td>KEVIN GUTIERREZ RAMIREZ</td>\n",
       "      <td>VGU07E</td>\n",
       "      <td>1098777381</td>\n",
       "      <td>1</td>\n",
       "      <td>1.0</td>\n",
       "    </tr>\n",
       "  </tbody>\n",
       "</table>\n",
       "</div>"
      ],
      "text/plain": [
       "                    nombres  placac      cedula  frecuencianom  \\\n",
       "0            CALAZAN SALAZ   KPB74E    13889512              1   \n",
       "1        LUIS PEREZ ESCOBAR  HEO71D    72048921              1   \n",
       "2  FERNANDO BOHORQUEZ NUÑEZ  SKS94B  1102720175              2   \n",
       "3  FERNANDO BOHORQUEZ NUÑEZ  SKS94B  1102720175              2   \n",
       "4   KEVIN GUTIERREZ RAMIREZ  VGU07E  1098777381              1   \n",
       "\n",
       "   frecuenciaplaca  \n",
       "0              1.0  \n",
       "1              1.0  \n",
       "2              2.0  \n",
       "3              2.0  \n",
       "4              1.0  "
      ]
     },
     "execution_count": 9,
     "metadata": {},
     "output_type": "execute_result"
    }
   ],
   "source": [
    "namefilter = pd.DataFrame({\"nombres\":dataLimpio1[\"nameapell\"],\"placac\":dataLimpio1[\"placac\"],\"cedula\":dataLimpio1[\"ncedula\"]})\n",
    "namefilter['frecuencianom'] = namefilter['nombres'].map(namefilter['nombres'].value_counts()) \n",
    "namefilter['frecuenciaplaca'] = namefilter['placac'].map(namefilter['placac'].value_counts())\n",
    "namefilter.head()"
   ]
  },
  {
   "cell_type": "code",
   "execution_count": 10,
   "metadata": {},
   "outputs": [
    {
     "name": "stdout",
     "output_type": "stream",
     "text": [
      "                      nombres  placac      cedula  frecuencianom  \\\n",
      "4193                            XVI37         NaN             21   \n",
      "1451                           DUV170  1014176762             21   \n",
      "4323                           DVM81B         NaN             21   \n",
      "1283                           QBT21B         NaN             21   \n",
      "1281                           QBT21B         NaN             21   \n",
      "...                       ...     ...         ...            ...   \n",
      "6395   neiler vargas carrillo  SKE16C  1093752403              2   \n",
      "6396   neiler vargas carrillo  SKE16C  1093752403              2   \n",
      "6932  paola trujillo  ramirez  DUS191  1098692702              1   \n",
      "5579    raul guerrero malagon  SKL277    91180225              1   \n",
      "1176    sergio ramirez guzman  HDQ169  1098706632              1   \n",
      "\n",
      "      frecuenciaplaca  \n",
      "4193              1.0  \n",
      "1451              1.0  \n",
      "4323              1.0  \n",
      "1283              2.0  \n",
      "1281              2.0  \n",
      "...               ...  \n",
      "6395              2.0  \n",
      "6396              2.0  \n",
      "6932              1.0  \n",
      "5579              1.0  \n",
      "1176              1.0  \n",
      "\n",
      "[8586 rows x 5 columns]\n"
     ]
    }
   ],
   "source": [
    "print(namefilter.sort_values(by=['nombres']))"
   ]
  },
  {
   "cell_type": "markdown",
   "metadata": {},
   "source": [
    "### separación de comparendos por nombre y placa:"
   ]
  },
  {
   "cell_type": "markdown",
   "metadata": {},
   "source": [
    "* aplicamos un filtro para saber cuales placas tienen mas de 3 comparendos y a que nombres esta asociado\n",
    "\n",
    "(esto con el fin de identificar si algun nombre tiene comparendos registrados con distintas placas, de ser así, podria indicar\n",
    "que la persona esta conduciendo diversos vehículos en diversos días, luego podría indicar piratería)"
   ]
  },
  {
   "cell_type": "code",
   "execution_count": 11,
   "metadata": {},
   "outputs": [],
   "source": [
    "filtro = namefilter[(namefilter[\"frecuenciaplaca\"]>2)]"
   ]
  },
  {
   "cell_type": "code",
   "execution_count": 12,
   "metadata": {},
   "outputs": [
    {
     "data": {
      "text/html": [
       "<div>\n",
       "<style scoped>\n",
       "    .dataframe tbody tr th:only-of-type {\n",
       "        vertical-align: middle;\n",
       "    }\n",
       "\n",
       "    .dataframe tbody tr th {\n",
       "        vertical-align: top;\n",
       "    }\n",
       "\n",
       "    .dataframe thead th {\n",
       "        text-align: right;\n",
       "    }\n",
       "</style>\n",
       "<table border=\"1\" class=\"dataframe\">\n",
       "  <thead>\n",
       "    <tr style=\"text-align: right;\">\n",
       "      <th></th>\n",
       "      <th>nombres</th>\n",
       "      <th>placac</th>\n",
       "      <th>cedula</th>\n",
       "      <th>frecuencianom</th>\n",
       "      <th>frecuenciaplaca</th>\n",
       "    </tr>\n",
       "  </thead>\n",
       "  <tbody>\n",
       "    <tr>\n",
       "      <th>2134</th>\n",
       "      <td>0 0</td>\n",
       "      <td>XXXXXX</td>\n",
       "      <td>0</td>\n",
       "      <td>3</td>\n",
       "      <td>3.0</td>\n",
       "    </tr>\n",
       "    <tr>\n",
       "      <th>2135</th>\n",
       "      <td>0 0</td>\n",
       "      <td>XXXXXX</td>\n",
       "      <td>0</td>\n",
       "      <td>3</td>\n",
       "      <td>3.0</td>\n",
       "    </tr>\n",
       "    <tr>\n",
       "      <th>2136</th>\n",
       "      <td>0 0</td>\n",
       "      <td>XXXXXX</td>\n",
       "      <td>0</td>\n",
       "      <td>3</td>\n",
       "      <td>3.0</td>\n",
       "    </tr>\n",
       "    <tr>\n",
       "      <th>8379</th>\n",
       "      <td>ALBER CACUA VILLAMIZAR</td>\n",
       "      <td>DUB482</td>\n",
       "      <td>88034122</td>\n",
       "      <td>3</td>\n",
       "      <td>3.0</td>\n",
       "    </tr>\n",
       "    <tr>\n",
       "      <th>8378</th>\n",
       "      <td>ALBER CACUA VILLAMIZAR</td>\n",
       "      <td>DUB482</td>\n",
       "      <td>88034122</td>\n",
       "      <td>3</td>\n",
       "      <td>3.0</td>\n",
       "    </tr>\n",
       "  </tbody>\n",
       "</table>\n",
       "</div>"
      ],
      "text/plain": [
       "                     nombres  placac    cedula  frecuencianom  frecuenciaplaca\n",
       "2134                    0 0   XXXXXX         0              3              3.0\n",
       "2135                    0 0   XXXXXX         0              3              3.0\n",
       "2136                    0 0   XXXXXX         0              3              3.0\n",
       "8379  ALBER CACUA VILLAMIZAR  DUB482  88034122              3              3.0\n",
       "8378  ALBER CACUA VILLAMIZAR  DUB482  88034122              3              3.0"
      ]
     },
     "execution_count": 12,
     "metadata": {},
     "output_type": "execute_result"
    }
   ],
   "source": [
    "filtrodeci = filtro.sort_values(by=['nombres'])\n",
    "filtrodeci.head()"
   ]
  },
  {
   "cell_type": "code",
   "execution_count": 13,
   "metadata": {},
   "outputs": [
    {
     "data": {
      "text/html": [
       "<div>\n",
       "<style scoped>\n",
       "    .dataframe tbody tr th:only-of-type {\n",
       "        vertical-align: middle;\n",
       "    }\n",
       "\n",
       "    .dataframe tbody tr th {\n",
       "        vertical-align: top;\n",
       "    }\n",
       "\n",
       "    .dataframe thead th {\n",
       "        text-align: right;\n",
       "    }\n",
       "</style>\n",
       "<table border=\"1\" class=\"dataframe\">\n",
       "  <thead>\n",
       "    <tr style=\"text-align: right;\">\n",
       "      <th></th>\n",
       "      <th>nombres</th>\n",
       "      <th>placac</th>\n",
       "      <th>cedula</th>\n",
       "      <th>frecuencianom</th>\n",
       "      <th>frecuenciaplaca</th>\n",
       "    </tr>\n",
       "  </thead>\n",
       "  <tbody>\n",
       "    <tr>\n",
       "      <th>2134</th>\n",
       "      <td>0 0</td>\n",
       "      <td>XXXXXX</td>\n",
       "      <td>0</td>\n",
       "      <td>3</td>\n",
       "      <td>3.0</td>\n",
       "    </tr>\n",
       "    <tr>\n",
       "      <th>2135</th>\n",
       "      <td>0 0</td>\n",
       "      <td>XXXXXX</td>\n",
       "      <td>0</td>\n",
       "      <td>3</td>\n",
       "      <td>3.0</td>\n",
       "    </tr>\n",
       "    <tr>\n",
       "      <th>2136</th>\n",
       "      <td>0 0</td>\n",
       "      <td>XXXXXX</td>\n",
       "      <td>0</td>\n",
       "      <td>3</td>\n",
       "      <td>3.0</td>\n",
       "    </tr>\n",
       "    <tr>\n",
       "      <th>425</th>\n",
       "      <td>NO LEGIBLE</td>\n",
       "      <td>XWY87</td>\n",
       "      <td>0</td>\n",
       "      <td>4</td>\n",
       "      <td>3.0</td>\n",
       "    </tr>\n",
       "    <tr>\n",
       "      <th>422</th>\n",
       "      <td>NO LEGIBLE</td>\n",
       "      <td>XWY87</td>\n",
       "      <td>0</td>\n",
       "      <td>4</td>\n",
       "      <td>3.0</td>\n",
       "    </tr>\n",
       "    <tr>\n",
       "      <th>418</th>\n",
       "      <td>NO LEGIBLE</td>\n",
       "      <td>XWY87</td>\n",
       "      <td>0</td>\n",
       "      <td>4</td>\n",
       "      <td>3.0</td>\n",
       "    </tr>\n",
       "    <tr>\n",
       "      <th>1021</th>\n",
       "      <td>SIN RECONOCER RECONOCER</td>\n",
       "      <td>TNC34C</td>\n",
       "      <td>0</td>\n",
       "      <td>12</td>\n",
       "      <td>6.0</td>\n",
       "    </tr>\n",
       "    <tr>\n",
       "      <th>2474</th>\n",
       "      <td>SIN RECONOCER RECONOCER</td>\n",
       "      <td>EEI16</td>\n",
       "      <td>0</td>\n",
       "      <td>12</td>\n",
       "      <td>3.0</td>\n",
       "    </tr>\n",
       "    <tr>\n",
       "      <th>2473</th>\n",
       "      <td>SIN RECONOCER RECONOCER</td>\n",
       "      <td>EEI16</td>\n",
       "      <td>0</td>\n",
       "      <td>12</td>\n",
       "      <td>3.0</td>\n",
       "    </tr>\n",
       "    <tr>\n",
       "      <th>2472</th>\n",
       "      <td>SIN RECONOCER RECONOCER</td>\n",
       "      <td>EEI16</td>\n",
       "      <td>0</td>\n",
       "      <td>12</td>\n",
       "      <td>3.0</td>\n",
       "    </tr>\n",
       "    <tr>\n",
       "      <th>1022</th>\n",
       "      <td>SIN RECONOCER RECONOCER</td>\n",
       "      <td>TNC34C</td>\n",
       "      <td>0</td>\n",
       "      <td>12</td>\n",
       "      <td>6.0</td>\n",
       "    </tr>\n",
       "    <tr>\n",
       "      <th>1024</th>\n",
       "      <td>SIN RECONOCER RECONOCER</td>\n",
       "      <td>TNC34C</td>\n",
       "      <td>0</td>\n",
       "      <td>12</td>\n",
       "      <td>6.0</td>\n",
       "    </tr>\n",
       "    <tr>\n",
       "      <th>1025</th>\n",
       "      <td>SIN RECONOCER RECONOCER</td>\n",
       "      <td>TNC34C</td>\n",
       "      <td>0</td>\n",
       "      <td>12</td>\n",
       "      <td>6.0</td>\n",
       "    </tr>\n",
       "    <tr>\n",
       "      <th>1017</th>\n",
       "      <td>SIN RECONOCER RECONOCER</td>\n",
       "      <td>TNC34C</td>\n",
       "      <td>0</td>\n",
       "      <td>12</td>\n",
       "      <td>6.0</td>\n",
       "    </tr>\n",
       "    <tr>\n",
       "      <th>1018</th>\n",
       "      <td>SIN RECONOCER RECONOCER</td>\n",
       "      <td>TNC34C</td>\n",
       "      <td>0</td>\n",
       "      <td>12</td>\n",
       "      <td>6.0</td>\n",
       "    </tr>\n",
       "  </tbody>\n",
       "</table>\n",
       "</div>"
      ],
      "text/plain": [
       "                       nombres  placac cedula  frecuencianom  frecuenciaplaca\n",
       "2134                      0 0   XXXXXX      0              3              3.0\n",
       "2135                      0 0   XXXXXX      0              3              3.0\n",
       "2136                      0 0   XXXXXX      0              3              3.0\n",
       "425               NO LEGIBLE     XWY87      0              4              3.0\n",
       "422               NO LEGIBLE     XWY87      0              4              3.0\n",
       "418               NO LEGIBLE     XWY87      0              4              3.0\n",
       "1021  SIN RECONOCER RECONOCER   TNC34C      0             12              6.0\n",
       "2474  SIN RECONOCER RECONOCER    EEI16      0             12              3.0\n",
       "2473  SIN RECONOCER RECONOCER    EEI16      0             12              3.0\n",
       "2472  SIN RECONOCER RECONOCER    EEI16      0             12              3.0\n",
       "1022  SIN RECONOCER RECONOCER   TNC34C      0             12              6.0\n",
       "1024  SIN RECONOCER RECONOCER   TNC34C      0             12              6.0\n",
       "1025  SIN RECONOCER RECONOCER   TNC34C      0             12              6.0\n",
       "1017  SIN RECONOCER RECONOCER   TNC34C      0             12              6.0\n",
       "1018  SIN RECONOCER RECONOCER   TNC34C      0             12              6.0"
      ]
     },
     "execution_count": 13,
     "metadata": {},
     "output_type": "execute_result"
    }
   ],
   "source": [
    "filtrodeci[(filtrodeci[\"cedula\"]==0)]"
   ]
  },
  {
   "cell_type": "code",
   "execution_count": 14,
   "metadata": {},
   "outputs": [
    {
     "data": {
      "text/html": [
       "<div>\n",
       "<style scoped>\n",
       "    .dataframe tbody tr th:only-of-type {\n",
       "        vertical-align: middle;\n",
       "    }\n",
       "\n",
       "    .dataframe tbody tr th {\n",
       "        vertical-align: top;\n",
       "    }\n",
       "\n",
       "    .dataframe thead th {\n",
       "        text-align: right;\n",
       "    }\n",
       "</style>\n",
       "<table border=\"1\" class=\"dataframe\">\n",
       "  <thead>\n",
       "    <tr style=\"text-align: right;\">\n",
       "      <th></th>\n",
       "      <th>nombres</th>\n",
       "      <th>placac</th>\n",
       "      <th>cedula</th>\n",
       "      <th>frecuencianom</th>\n",
       "      <th>frecuenciaplaca</th>\n",
       "    </tr>\n",
       "  </thead>\n",
       "  <tbody>\n",
       "    <tr>\n",
       "      <th>6689</th>\n",
       "      <td>YORDIN CANDELA PLATA</td>\n",
       "      <td>XMV72C</td>\n",
       "      <td>1098759097</td>\n",
       "      <td>3</td>\n",
       "      <td>3.0</td>\n",
       "    </tr>\n",
       "    <tr>\n",
       "      <th>6690</th>\n",
       "      <td>YORDIN CANDELA PLATA</td>\n",
       "      <td>XMV72C</td>\n",
       "      <td>1098759097</td>\n",
       "      <td>3</td>\n",
       "      <td>3.0</td>\n",
       "    </tr>\n",
       "    <tr>\n",
       "      <th>7381</th>\n",
       "      <td>YORMAN ARTURO PEREZ</td>\n",
       "      <td>CAE71F</td>\n",
       "      <td>86333126</td>\n",
       "      <td>3</td>\n",
       "      <td>3.0</td>\n",
       "    </tr>\n",
       "    <tr>\n",
       "      <th>7917</th>\n",
       "      <td>YORMAN ARTURO PEREZ</td>\n",
       "      <td>POR06E</td>\n",
       "      <td>17314690</td>\n",
       "      <td>3</td>\n",
       "      <td>3.0</td>\n",
       "    </tr>\n",
       "    <tr>\n",
       "      <th>7378</th>\n",
       "      <td>YORMAN ARTURO PEREZ</td>\n",
       "      <td>CAE71F</td>\n",
       "      <td>86333126</td>\n",
       "      <td>3</td>\n",
       "      <td>3.0</td>\n",
       "    </tr>\n",
       "  </tbody>\n",
       "</table>\n",
       "</div>"
      ],
      "text/plain": [
       "                   nombres  placac      cedula  frecuencianom  frecuenciaplaca\n",
       "6689  YORDIN CANDELA PLATA  XMV72C  1098759097              3              3.0\n",
       "6690  YORDIN CANDELA PLATA  XMV72C  1098759097              3              3.0\n",
       "7381  YORMAN ARTURO PEREZ   CAE71F    86333126              3              3.0\n",
       "7917  YORMAN ARTURO PEREZ   POR06E    17314690              3              3.0\n",
       "7378  YORMAN ARTURO PEREZ   CAE71F    86333126              3              3.0"
      ]
     },
     "execution_count": 14,
     "metadata": {},
     "output_type": "execute_result"
    }
   ],
   "source": [
    "filtrodeci.tail()"
   ]
  },
  {
   "cell_type": "markdown",
   "metadata": {},
   "source": [
    "### por el momento verificando los datos:\n",
    "\n",
    "los que tienen mas de 3 partes son 133 personas, pero de esas ninguna tiene asociada mas de una placa, salvo las personas cuyo nombre dice \"SIN RECONOCER\", en estos aún cabe la posibilidad de que el mismo vehículo fuera manejado por 2 o más personas distintas, no podemos descartar nada aún.por otra parte, empezamos a graficar para darnos cuenta de la dispersion y si los datos mostrados anteriormente son ciertos o si hay algún valor que no hayamos tenido en cuenta"
   ]
  },
  {
   "cell_type": "code",
   "execution_count": 15,
   "metadata": {},
   "outputs": [
    {
     "data": {
      "image/png": "[encoded data removed]",
      "text/plain": [
       "<Figure size 432x288 with 1 Axes>"
      ]
     },
     "metadata": {
      "needs_background": "light"
     },
     "output_type": "display_data"
    }
   ],
   "source": [
    "plt.title('nombres/infraccion')\n",
    "plt.hist(filtrodeci['frecuencianom'])\n",
    "plt.show()"
   ]
  },
  {
   "cell_type": "code",
   "execution_count": 16,
   "metadata": {},
   "outputs": [
    {
     "data": {
      "text/plain": [
       "<matplotlib.axes._subplots.AxesSubplot at 0x1f98dd4dcc8>"
      ]
     },
     "execution_count": 16,
     "metadata": {},
     "output_type": "execute_result"
    },
    {
     "data": {
      "image/png": "[encoded data removed]",
      "text/plain": [
       "<Figure size 432x288 with 1 Axes>"
      ]
     },
     "metadata": {
      "needs_background": "light"
     },
     "output_type": "display_data"
    }
   ],
   "source": [
    "boxplot(filtrodeci.frecuencianom)"
   ]
  },
  {
   "cell_type": "markdown",
   "metadata": {},
   "source": [
    "### graficando nos damos cuenta que los nombres y placas analizados están correctos con respecto a lo que observamos anteriormente.\n",
    "\n",
    "* Sin embargo, por el momento se podría considerar que hemos limpiado y organizado los datos para poderlos analizar correctamente pero aún nos hace falta un dato decisivo como puede ser el registro RUNT con el cuál podamos comparar y verificar quién es el dueño de determinada placa, con esto podríamos observar si los distintos comparendos fueron hechos a personas que conducían vehículos de otras personas mas no a los dueños de estos vehículos, además de que podríamos saber si una persona tiene un número \"anómalo\" de vehículos y si ha habido comparendos aplicados a posibles conductores ilegales "
   ]
  },
  {
   "cell_type": "code",
   "execution_count": 17,
   "metadata": {},
   "outputs": [
    {
     "data": {
      "text/plain": [
       "count    427.000000\n",
       "mean       3.487119\n",
       "std        0.870323\n",
       "min        3.000000\n",
       "25%        3.000000\n",
       "50%        3.000000\n",
       "75%        4.000000\n",
       "max        7.000000\n",
       "Name: frecuenciaplaca, dtype: float64"
      ]
     },
     "execution_count": 17,
     "metadata": {},
     "output_type": "execute_result"
    }
   ],
   "source": [
    "filtrodeci[\"frecuenciaplaca\"].describe()"
   ]
  },
  {
   "cell_type": "markdown",
   "metadata": {},
   "source": [
    "# creando una comparacion para saber cuales infractores estan en la hoja del runt"
   ]
  },
  {
   "cell_type": "code",
   "execution_count": 18,
   "metadata": {},
   "outputs": [
    {
     "data": {
      "text/plain": [
       "376209"
      ]
     },
     "execution_count": 18,
     "metadata": {},
     "output_type": "execute_result"
    }
   ],
   "source": [
    "runt = pd.read_excel('runt.xlsx')\n",
    "len(runt)"
   ]
  },
  {
   "cell_type": "code",
   "execution_count": 70,
   "metadata": {},
   "outputs": [
    {
     "data": {
      "text/plain": [
       "Index(['placa', 'comparendo', 'tipocomparendo', 'tipo_documento_infractor',\n",
       "       'identificacion_infractor', 'tipo_documento_propietario',\n",
       "       'identificacion_propietario', 'estado_infraccion',\n",
       "       'direccion_residencia_infractor', 'municipio_residencia_infractor',\n",
       "       'departamento_residencia_infractor', 'telefono_celular_infractor',\n",
       "       'direccion_residencia_propietario', 'municipio_residencia_propietario',\n",
       "       'departamento_residencia_propietario', 'telefono_celular_propietario'],\n",
       "      dtype='object')"
      ]
     },
     "execution_count": 70,
     "metadata": {},
     "output_type": "execute_result"
    }
   ],
   "source": [
    "runt.columns"
   ]
  },
  {
   "cell_type": "markdown",
   "metadata": {},
   "source": [
    "### creando nuevos datasets con las especificaciones que queremos para este analisis"
   ]
  },
  {
   "cell_type": "code",
   "execution_count": 33,
   "metadata": {},
   "outputs": [],
   "source": [
    "newrunt = pd.DataFrame({\"placa\":runt['placa'],\n",
    "                        \"cedulainfrac\":runt['identificacion_infractor'],\n",
    "                        \"cedulapropie\":runt['identificacion_propietario'],\n",
    "                       })\n",
    "newinfrac2020 = pd.DataFrame({\"nombres\":filtrodeci['nombres'],\n",
    "                              \"placa\":filtrodeci['placac'],\n",
    "                              \"cedulainfrac2020\":filtrodeci['cedula']\n",
    "                             })"
   ]
  },
  {
   "cell_type": "code",
   "execution_count": 34,
   "metadata": {},
   "outputs": [
    {
     "data": {
      "text/html": [
       "<div>\n",
       "<style scoped>\n",
       "    .dataframe tbody tr th:only-of-type {\n",
       "        vertical-align: middle;\n",
       "    }\n",
       "\n",
       "    .dataframe tbody tr th {\n",
       "        vertical-align: top;\n",
       "    }\n",
       "\n",
       "    .dataframe thead th {\n",
       "        text-align: right;\n",
       "    }\n",
       "</style>\n",
       "<table border=\"1\" class=\"dataframe\">\n",
       "  <thead>\n",
       "    <tr style=\"text-align: right;\">\n",
       "      <th></th>\n",
       "      <th>placa</th>\n",
       "      <th>cedulainfrac</th>\n",
       "      <th>cedulapropie</th>\n",
       "    </tr>\n",
       "  </thead>\n",
       "  <tbody>\n",
       "    <tr>\n",
       "      <th>1648</th>\n",
       "      <td>XXXXXX</td>\n",
       "      <td>0</td>\n",
       "      <td>0</td>\n",
       "    </tr>\n",
       "    <tr>\n",
       "      <th>1649</th>\n",
       "      <td>XXXXXX</td>\n",
       "      <td>0</td>\n",
       "      <td>0</td>\n",
       "    </tr>\n",
       "    <tr>\n",
       "      <th>1651</th>\n",
       "      <td>XXXXXX</td>\n",
       "      <td>0</td>\n",
       "      <td>0</td>\n",
       "    </tr>\n",
       "  </tbody>\n",
       "</table>\n",
       "</div>"
      ],
      "text/plain": [
       "       placa cedulainfrac cedulapropie\n",
       "1648  XXXXXX            0            0\n",
       "1649  XXXXXX            0            0\n",
       "1651  XXXXXX            0            0"
      ]
     },
     "execution_count": 34,
     "metadata": {},
     "output_type": "execute_result"
    }
   ],
   "source": [
    "newrunt[(newrunt[\"placa\"]=='XXXXXX')]"
   ]
  },
  {
   "cell_type": "code",
   "execution_count": 35,
   "metadata": {},
   "outputs": [
    {
     "data": {
      "text/plain": [
       "(376209, 427)"
      ]
     },
     "execution_count": 35,
     "metadata": {},
     "output_type": "execute_result"
    }
   ],
   "source": [
    "len(newrunt), len(newinfrac2020)"
   ]
  },
  {
   "cell_type": "markdown",
   "metadata": {},
   "source": [
    "### uniendo datasets con las intersecciones para saber cual infractor esta en la hoja de runt"
   ]
  },
  {
   "cell_type": "code",
   "execution_count": 36,
   "metadata": {},
   "outputs": [
    {
     "data": {
      "text/plain": [
       "2603"
      ]
     },
     "execution_count": 36,
     "metadata": {},
     "output_type": "execute_result"
    }
   ],
   "source": [
    "intersect = newinfrac2020.merge(newrunt, how='inner')\n",
    "len(intersect)"
   ]
  },
  {
   "cell_type": "markdown",
   "metadata": {},
   "source": [
    "### limpiando placas en XXXXXX ya que no tienen ningun dato"
   ]
  },
  {
   "cell_type": "markdown",
   "metadata": {},
   "source": [
    "* una vez tenemos limpios de XXXXXX ya tenemos una lista en comun entre los infractores del 2020 y los de la hoja runt"
   ]
  },
  {
   "cell_type": "code",
   "execution_count": 37,
   "metadata": {},
   "outputs": [
    {
     "data": {
      "text/plain": [
       "2594"
      ]
     },
     "execution_count": 37,
     "metadata": {},
     "output_type": "execute_result"
    }
   ],
   "source": [
    "intersect = intersect[(intersect[\"placa\"]!='XXXXXX')]\n",
    "len(intersect)"
   ]
  },
  {
   "cell_type": "code",
   "execution_count": 38,
   "metadata": {},
   "outputs": [
    {
     "data": {
      "text/html": [
       "<div>\n",
       "<style scoped>\n",
       "    .dataframe tbody tr th:only-of-type {\n",
       "        vertical-align: middle;\n",
       "    }\n",
       "\n",
       "    .dataframe tbody tr th {\n",
       "        vertical-align: top;\n",
       "    }\n",
       "\n",
       "    .dataframe thead th {\n",
       "        text-align: right;\n",
       "    }\n",
       "</style>\n",
       "<table border=\"1\" class=\"dataframe\">\n",
       "  <thead>\n",
       "    <tr style=\"text-align: right;\">\n",
       "      <th></th>\n",
       "      <th>nombres</th>\n",
       "      <th>placa</th>\n",
       "      <th>cedulainfrac2020</th>\n",
       "      <th>cedulainfrac</th>\n",
       "      <th>cedulapropie</th>\n",
       "      <th>frecuencianom</th>\n",
       "      <th>frecuenciaplaca</th>\n",
       "    </tr>\n",
       "  </thead>\n",
       "  <tbody>\n",
       "    <tr>\n",
       "      <th>9</th>\n",
       "      <td>ALBER CACUA VILLAMIZAR</td>\n",
       "      <td>DUB482</td>\n",
       "      <td>88034122</td>\n",
       "      <td>88034122</td>\n",
       "      <td>41398569</td>\n",
       "      <td>12</td>\n",
       "      <td>12</td>\n",
       "    </tr>\n",
       "    <tr>\n",
       "      <th>10</th>\n",
       "      <td>ALBER CACUA VILLAMIZAR</td>\n",
       "      <td>DUB482</td>\n",
       "      <td>88034122</td>\n",
       "      <td>88034122</td>\n",
       "      <td>NaN</td>\n",
       "      <td>12</td>\n",
       "      <td>12</td>\n",
       "    </tr>\n",
       "    <tr>\n",
       "      <th>11</th>\n",
       "      <td>ALBER CACUA VILLAMIZAR</td>\n",
       "      <td>DUB482</td>\n",
       "      <td>88034122</td>\n",
       "      <td>88034122</td>\n",
       "      <td>NaN</td>\n",
       "      <td>12</td>\n",
       "      <td>12</td>\n",
       "    </tr>\n",
       "    <tr>\n",
       "      <th>12</th>\n",
       "      <td>ALBER CACUA VILLAMIZAR</td>\n",
       "      <td>DUB482</td>\n",
       "      <td>88034122</td>\n",
       "      <td>88034122</td>\n",
       "      <td>NaN</td>\n",
       "      <td>12</td>\n",
       "      <td>12</td>\n",
       "    </tr>\n",
       "    <tr>\n",
       "      <th>13</th>\n",
       "      <td>ALBER CACUA VILLAMIZAR</td>\n",
       "      <td>DUB482</td>\n",
       "      <td>88034122</td>\n",
       "      <td>88034122</td>\n",
       "      <td>41398569</td>\n",
       "      <td>12</td>\n",
       "      <td>12</td>\n",
       "    </tr>\n",
       "  </tbody>\n",
       "</table>\n",
       "</div>"
      ],
      "text/plain": [
       "                   nombres   placa cedulainfrac2020 cedulainfrac cedulapropie  \\\n",
       "9   ALBER CACUA VILLAMIZAR  DUB482         88034122     88034122     41398569   \n",
       "10  ALBER CACUA VILLAMIZAR  DUB482         88034122     88034122          NaN   \n",
       "11  ALBER CACUA VILLAMIZAR  DUB482         88034122     88034122          NaN   \n",
       "12  ALBER CACUA VILLAMIZAR  DUB482         88034122     88034122          NaN   \n",
       "13  ALBER CACUA VILLAMIZAR  DUB482         88034122     88034122     41398569   \n",
       "\n",
       "    frecuencianom  frecuenciaplaca  \n",
       "9              12               12  \n",
       "10             12               12  \n",
       "11             12               12  \n",
       "12             12               12  \n",
       "13             12               12  "
      ]
     },
     "execution_count": 38,
     "metadata": {},
     "output_type": "execute_result"
    }
   ],
   "source": [
    "intersect['frecuencianom'] = intersect['nombres'].map(intersect['nombres'].value_counts()) \n",
    "intersect['frecuenciaplaca'] = intersect['placa'].map(intersect['placa'].value_counts())\n",
    "intersect.head()"
   ]
  },
  {
   "cell_type": "code",
   "execution_count": 64,
   "metadata": {},
   "outputs": [
    {
     "name": "stdout",
     "output_type": "stream",
     "text": [
      "cedulas propietario vacias hoja runt: 95 cedulas infractor vacias hoja runt: 57 cedulas vacias hoja comparendos: 105\n"
     ]
    }
   ],
   "source": [
    "#filtro para saber cuantos datos hay vacios en las cedulas de los propietarios hoja del runt\n",
    "filtronanproprunt = intersect[\"cedulapropie\"].fillna(value=0)\n",
    "filtronanproprunt = intersect[(intersect[\"cedulapropie\"]==0)]\n",
    "filtronanproprunt2 = intersect[(intersect[\"cedulapropie\"]!=0)]\n",
    "\n",
    "#filtro para saber cuantos datos hay vacios en las cedulas de los infractores hoja del runt\n",
    "filtronaninfracrunt = intersect[\"cedulainfrac\"].fillna(value=0)\n",
    "filtronaninfracrunt = intersect[(intersect[\"cedulainfrac\"]==0)]\n",
    "filtronaninfracrunt2 = intersect[(intersect[\"cedulainfrac\"]!=0)]\n",
    "\n",
    "#filtro para saber cuantos datos hay vacios en las cedulas de los infractores hoja comparendos\n",
    "filtronaninfraccomp = intersect[\"cedulainfrac2020\"].fillna(value=0)\n",
    "filtronaninfraccomp = intersect[(intersect[\"cedulainfrac2020\"]==0)]\n",
    "filtronaninfraccomp2 = intersect[(intersect[\"cedulainfrac2020\"]!=0)]\n",
    "\n",
    "\n",
    "print(\"cedulas propietario vacias hoja runt: \"+str(len(filtronanproprunt))+\" cedulas infractor vacias hoja runt: \"+str(len(filtronaninfracrunt))+\" cedulas vacias hoja comparendos: \"+str(len(filtronaninfraccomp)))"
   ]
  },
  {
   "cell_type": "markdown",
   "metadata": {},
   "source": [
    "### este es el nuevo dataset donde estan solo los que tienen todos los datos completos"
   ]
  },
  {
   "cell_type": "code",
   "execution_count": 65,
   "metadata": {},
   "outputs": [],
   "source": [
    "#mostrar solo datos donde todos los campos en cedulas esten completos\n",
    "filtrocompleto = intersect[(filtronanproprunt2[\"cedulapropie\"]) & (filtronaninfracrunt2[\"cedulainfrac\"]) & (filtronaninfraccomp2[\"cedulainfrac2020\"])]"
   ]
  },
  {
   "cell_type": "code",
   "execution_count": 66,
   "metadata": {},
   "outputs": [
    {
     "data": {
      "text/html": [
       "<div>\n",
       "<style scoped>\n",
       "    .dataframe tbody tr th:only-of-type {\n",
       "        vertical-align: middle;\n",
       "    }\n",
       "\n",
       "    .dataframe tbody tr th {\n",
       "        vertical-align: top;\n",
       "    }\n",
       "\n",
       "    .dataframe thead th {\n",
       "        text-align: right;\n",
       "    }\n",
       "</style>\n",
       "<table border=\"1\" class=\"dataframe\">\n",
       "  <thead>\n",
       "    <tr style=\"text-align: right;\">\n",
       "      <th></th>\n",
       "      <th>nombres</th>\n",
       "      <th>placa</th>\n",
       "      <th>cedulainfrac2020</th>\n",
       "      <th>cedulainfrac</th>\n",
       "      <th>cedulapropie</th>\n",
       "      <th>frecuencianom</th>\n",
       "      <th>frecuenciaplaca</th>\n",
       "    </tr>\n",
       "  </thead>\n",
       "  <tbody>\n",
       "    <tr>\n",
       "      <th>9</th>\n",
       "      <td>ALBER CACUA VILLAMIZAR</td>\n",
       "      <td>DUB482</td>\n",
       "      <td>88034122</td>\n",
       "      <td>88034122</td>\n",
       "      <td>41398569</td>\n",
       "      <td>12</td>\n",
       "      <td>12</td>\n",
       "    </tr>\n",
       "    <tr>\n",
       "      <th>13</th>\n",
       "      <td>ALBER CACUA VILLAMIZAR</td>\n",
       "      <td>DUB482</td>\n",
       "      <td>88034122</td>\n",
       "      <td>88034122</td>\n",
       "      <td>41398569</td>\n",
       "      <td>12</td>\n",
       "      <td>12</td>\n",
       "    </tr>\n",
       "    <tr>\n",
       "      <th>17</th>\n",
       "      <td>ALBER CACUA VILLAMIZAR</td>\n",
       "      <td>DUB482</td>\n",
       "      <td>88034122</td>\n",
       "      <td>88034122</td>\n",
       "      <td>41398569</td>\n",
       "      <td>12</td>\n",
       "      <td>12</td>\n",
       "    </tr>\n",
       "    <tr>\n",
       "      <th>21</th>\n",
       "      <td>ALBERTO ARDILA VILLAMIZAR</td>\n",
       "      <td>CAE71F</td>\n",
       "      <td>13845247</td>\n",
       "      <td>13845247</td>\n",
       "      <td>10987505</td>\n",
       "      <td>3</td>\n",
       "      <td>9</td>\n",
       "    </tr>\n",
       "    <tr>\n",
       "      <th>22</th>\n",
       "      <td>ALBERTO ARDILA VILLAMIZAR</td>\n",
       "      <td>CAE71F</td>\n",
       "      <td>13845247</td>\n",
       "      <td>86333126</td>\n",
       "      <td>10987505</td>\n",
       "      <td>3</td>\n",
       "      <td>9</td>\n",
       "    </tr>\n",
       "  </tbody>\n",
       "</table>\n",
       "</div>"
      ],
      "text/plain": [
       "                      nombres   placa cedulainfrac2020 cedulainfrac  \\\n",
       "9      ALBER CACUA VILLAMIZAR  DUB482         88034122     88034122   \n",
       "13     ALBER CACUA VILLAMIZAR  DUB482         88034122     88034122   \n",
       "17     ALBER CACUA VILLAMIZAR  DUB482         88034122     88034122   \n",
       "21  ALBERTO ARDILA VILLAMIZAR  CAE71F         13845247     13845247   \n",
       "22  ALBERTO ARDILA VILLAMIZAR  CAE71F         13845247     86333126   \n",
       "\n",
       "   cedulapropie  frecuencianom  frecuenciaplaca  \n",
       "9      41398569             12               12  \n",
       "13     41398569             12               12  \n",
       "17     41398569             12               12  \n",
       "21     10987505              3                9  \n",
       "22     10987505              3                9  "
      ]
     },
     "execution_count": 66,
     "metadata": {},
     "output_type": "execute_result"
    }
   ],
   "source": [
    "filtrocompleto.head()"
   ]
  },
  {
   "cell_type": "code",
   "execution_count": 67,
   "metadata": {},
   "outputs": [
    {
     "data": {
      "text/plain": [
       "1111"
      ]
     },
     "execution_count": 67,
     "metadata": {},
     "output_type": "execute_result"
    }
   ],
   "source": [
    "len(filtrocompleto)"
   ]
  },
  {
   "cell_type": "code",
   "execution_count": null,
   "metadata": {},
   "outputs": [],
   "source": []
  }
 ],
 "metadata": {
  "kernelspec": {
   "display_name": "Python 3",
   "language": "python",
   "name": "python3"
  },
  "language_info": {
   "codemirror_mode": {
    "name": "ipython",
    "version": 3
   },
   "file_extension": ".py",
   "mimetype": "text/x-python",
   "name": "python",
   "nbconvert_exporter": "python",
   "pygments_lexer": "ipython3",
   "version": "3.7.5"
  }
 },
 "nbformat": 4,
 "nbformat_minor": 2
}
