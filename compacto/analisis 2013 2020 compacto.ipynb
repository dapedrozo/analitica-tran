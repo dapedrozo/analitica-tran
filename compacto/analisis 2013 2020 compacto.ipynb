{
 "cells": [
  {
   "cell_type": "code",
   "execution_count": 1,
   "metadata": {},
   "outputs": [],
   "source": [
    "import pandas as pd\n",
    "import matplotlib.pyplot as plt\n",
    "from pylab import *\n",
    "from seaborn import lmplot\n",
    "from seaborn import distplot\n",
    "from seaborn import boxplot"
   ]
  },
  {
   "cell_type": "code",
   "execution_count": 2,
   "metadata": {},
   "outputs": [
    {
     "data": {
      "text/plain": [
       "['2020', '2019', '2018', '2017', '2016', '2015', '2014', '2013']"
      ]
     },
     "execution_count": 2,
     "metadata": {},
     "output_type": "execute_result"
    }
   ],
   "source": [
    "#carga datos generales\n",
    "data = pd.ExcelFile('malla comparendos 2013 al 2020.xlsx')\n",
    "data.sheet_names"
   ]
  },
  {
   "cell_type": "code",
   "execution_count": 3,
   "metadata": {},
   "outputs": [],
   "source": [
    "#carga runt\n",
    "runtgeneral = pd.read_excel('runt.xlsx')"
   ]
  },
  {
   "cell_type": "code",
   "execution_count": 4,
   "metadata": {},
   "outputs": [],
   "source": [
    "#inicia la separacion de todas las hojas de datos generales en varios df\n",
    "sheet_to_df_map = {}\n",
    "for nombre_hoja in data.sheet_names:\n",
    "    sheet_to_df_map[nombre_hoja] = data.parse(nombre_hoja)"
   ]
  },
  {
   "cell_type": "code",
   "execution_count": 5,
   "metadata": {},
   "outputs": [
    {
     "data": {
      "text/plain": [
       "(58587, 46768, 43509, 47763, 49028, 58593, 62783, 8594)"
      ]
     },
     "execution_count": 5,
     "metadata": {},
     "output_type": "execute_result"
    }
   ],
   "source": [
    "#separando las hojas en distintos df\n",
    "df1 = sheet_to_df_map['2013']\n",
    "df2 = sheet_to_df_map['2014']\n",
    "df3 = sheet_to_df_map['2015']\n",
    "df4 = sheet_to_df_map['2016']\n",
    "df5 = sheet_to_df_map['2017']\n",
    "df6 = sheet_to_df_map['2018']\n",
    "df7 = sheet_to_df_map['2019']\n",
    "df8 = sheet_to_df_map['2020']\n",
    "len(df1),len(df2), len(df3),len(df4),len(df5),len(df6),len(df7),len(df8)"
   ]
  },
  {
   "cell_type": "code",
   "execution_count": 6,
   "metadata": {},
   "outputs": [
    {
     "name": "stdout",
     "output_type": "stream",
     "text": [
      "375625\n"
     ]
    }
   ],
   "source": [
    "totaldatos = len(df1)+len(df2)+len(df3)+len(df4)+len(df5)+len(df6)+len(df7)+len(df8)\n",
    "print(totaldatos)"
   ]
  },
  {
   "cell_type": "code",
   "execution_count": 7,
   "metadata": {},
   "outputs": [
    {
     "data": {
      "text/plain": [
       "376209"
      ]
     },
     "execution_count": 7,
     "metadata": {},
     "output_type": "execute_result"
    }
   ],
   "source": [
    "len(runtgeneral)"
   ]
  },
  {
   "cell_type": "code",
   "execution_count": 8,
   "metadata": {},
   "outputs": [
    {
     "name": "stdout",
     "output_type": "stream",
     "text": [
      "584\n"
     ]
    }
   ],
   "source": [
    "diferencia = len(runtgeneral)-(len(df1)+len(df2)+len(df3)+len(df4)+len(df5)+len(df6)+len(df7)+len(df8))\n",
    "print(diferencia)"
   ]
  },
  {
   "cell_type": "code",
   "execution_count": 9,
   "metadata": {},
   "outputs": [
    {
     "data": {
      "text/plain": [
       "(57, 57, 57, 57, 57, 57, 57, 57)"
      ]
     },
     "execution_count": 9,
     "metadata": {},
     "output_type": "execute_result"
    }
   ],
   "source": [
    "#verificando la cantidad de columnas que tiene cada df\n",
    "pim1 = df1.columns.values.tolist()\n",
    "pim2 = df1.columns.values.tolist()\n",
    "pim3 = df1.columns.values.tolist()\n",
    "pim4 = df1.columns.values.tolist()\n",
    "pim5 = df1.columns.values.tolist()\n",
    "pim6 = df1.columns.values.tolist()\n",
    "pim7 = df1.columns.values.tolist()\n",
    "pim8 = df1.columns.values.tolist()\n",
    "len(pim1),len(pim2),len(pim3),len(pim4),len(pim5),len(pim6),len(pim7),len(pim8)"
   ]
  },
  {
   "cell_type": "code",
   "execution_count": 10,
   "metadata": {},
   "outputs": [
    {
     "data": {
      "text/plain": [
       "(57, 57, 57, 57, 57, 57, 57)"
      ]
     },
     "execution_count": 10,
     "metadata": {},
     "output_type": "execute_result"
    }
   ],
   "source": [
    "#verificando que todos los df tengan los mismos nombres de columnas\n",
    "pim9 = set(df1.columns.values).intersection(set(df2.columns.values))\n",
    "pim10 = set(df1.columns.values).intersection(set(df3.columns.values))\n",
    "pim11 = set(df1.columns.values).intersection(set(df4.columns.values))\n",
    "pim12 = set(df1.columns.values).intersection(set(df5.columns.values))\n",
    "pim13 = set(df1.columns.values).intersection(set(df6.columns.values))\n",
    "pim14 = set(df1.columns.values).intersection(set(df7.columns.values))\n",
    "pim15 = set(df1.columns.values).intersection(set(df8.columns.values))\n",
    "len(pim9),len(pim10),len(pim11),len(pim12),len(pim13),len(pim14),len(pim15)"
   ]
  },
  {
   "cell_type": "code",
   "execution_count": 11,
   "metadata": {},
   "outputs": [
    {
     "data": {
      "text/plain": [
       "Index(['numero comparendo', 'tipoc omparendo', 'fecha imposicion',\n",
       "       'hora imposicion', 'fecha notificacion', 'direccion infraccion',\n",
       "       'ciudad', 'infraccion', 'cepo', 'metrolinea', 'chaleco', 'casco',\n",
       "       'pico y placa', 'resolucion_111', 'licencia transito', 'tipo documento',\n",
       "       'documento', 'inmovilizado', 'grua', 'usuario', 'placaagente',\n",
       "       'entidad', 'nombre agente', 'estado', 'tipo resolucion',\n",
       "       'numero resolucion', 'fecha resolucion', 'fecha pago', 'fecha acuerdo',\n",
       "       'placa vehiculo', 'primer nombre', 'segundo nombre', 'primer apellido',\n",
       "       'segundo apellido', 'celular', 'direccion infractor', 'nombre',\n",
       "       'valor comparendo', 'saldo', 'valor pagado', 'curso', 'tipo curso',\n",
       "       'grado', 'clase vehiculo', 'tipo servicio', 'fecha ingreso patio',\n",
       "       'entregado patio', 'fecha entrega patio', 'cargo salida patio',\n",
       "       'funcionario salida patio', 'fecha solicitud audiencia',\n",
       "       'fecha audiencia', 'asistencia audiencia', 'inspeccion audiencia',\n",
       "       'funcionario audiencia', 'licencia suspendida', 'licencia cancelada'],\n",
       "      dtype='object')"
      ]
     },
     "execution_count": 11,
     "metadata": {},
     "output_type": "execute_result"
    }
   ],
   "source": [
    "#ya sabemos que todos los df tienen los mismos nombres de columnas\n",
    "df1.columns"
   ]
  },
  {
   "cell_type": "code",
   "execution_count": 12,
   "metadata": {},
   "outputs": [],
   "source": [
    "#concatenando todos los df en uno solo\n",
    "#forma de concatenar 1 por 1 para pcs mas lentos todavia: df1.append(df2, ignore_index = True)\n",
    "todogeneral = pd.concat([df1, df2, df3, df4, df5, df6, df7, df8], axis=0, ignore_index = True)"
   ]
  },
  {
   "cell_type": "code",
   "execution_count": 13,
   "metadata": {},
   "outputs": [],
   "source": [
    "#cambiando los nombres de todas las columnas de dfs de datos generales\n",
    "todogeneral.columns=['ncomp','tcomp','fcomp','hcomp','fnotifi','dirinfrac','ciudad','infrac','cepo','metro','chale','casco','pico','resolu111','licencia','tipodoc','ncedula','inmobi','grua','usuario','placaa','entidad','nomagen','estado','tiresol','nresol','fresol','fpago','facuerdo','placa','primnom','segnom','primapell','segapell','cel','dirinfractor','name','valorcomp','saldo','valpag','curso','ticurso','grado','clasvehicu','classervicio','fingrepatio','entrepatio','fentrepatio','cargsalipatio','funciosalipatio','fsolaudien','faudien','asistenaudien','inspeccaudien','funcioaudien','licensuspen','licencance']\n",
    "#cambiando los nombres de todas las columnas del runt\n",
    "runtgeneral.columns=['placa','ncomp','tcomp','docinfrac','cedulainfrac','docprop','cedulaprop','estado','dircasainfrac','municasainfrac','depcasainfrac','celinfrac','dircasaprop','municasaprop','depcasaprop','celprop']"
   ]
  },
  {
   "cell_type": "code",
   "execution_count": 15,
   "metadata": {},
   "outputs": [],
   "source": [
    "#eliminando na de las columnas que vamos a escoger\n",
    "primnomsna= todogeneral[\"primnom\"].fillna(value=\"\")\n",
    "primapellna = todogeneral[\"primapell\"].fillna(value=\"\")\n",
    "segapellna = todogeneral[\"segapell\"].fillna(value=\"\")\n",
    "todogeneral[\"dirinfractor\"] = todogeneral[\"dirinfractor\"].fillna(value=\"\")\n",
    "todogeneral[\"dirinfrac\"] = todogeneral[\"dirinfrac\"].fillna(value=\"\")\n",
    "todogeneral[\"fcomp\"] = todogeneral[\"fcomp\"].fillna(value=0)\n",
    "todogeneral[\"hcomp\"] = todogeneral[\"hcomp\"].fillna(value=0)\n",
    "todogeneral[\"valorcomp\"] = todogeneral[\"valorcomp\"].fillna(value=0)\n",
    "todogeneral[\"valpag\"] = todogeneral[\"valpag\"].fillna(value=0)\n",
    "todogeneral[\"cel\"] = todogeneral[\"cel\"].fillna(value=0)\n",
    "todogeneral[\"ncedula\"] = todogeneral[\"ncedula\"].fillna(value=0)\n",
    "todogeneral[\"placa\"] = todogeneral[\"placa\"].fillna(value=0)\n",
    "\n",
    "runtgeneral[\"cedulainfrac\"] = runtgeneral[\"cedulainfrac\"].fillna(value=0)\n",
    "runtgeneral[\"cedulaprop\"] = runtgeneral[\"cedulaprop\"].fillna(value=0)\n",
    "runtgeneral[\"placa\"] = runtgeneral[\"placa\"].fillna(value=0)\n",
    "runtgeneral[\"dircasainfrac\"] = runtgeneral[\"dircasainfrac\"].fillna(value=\"\")\n",
    "runtgeneral[\"dircasaprop\"] = runtgeneral[\"dircasaprop\"].fillna(value=\"\")\n",
    "runtgeneral[\"celinfrac\"] = runtgeneral[\"celinfrac\"].fillna(value=0)\n",
    "runtgeneral[\"celprop\"] = runtgeneral[\"celprop\"].fillna(value=0)"
   ]
  },
  {
   "cell_type": "code",
   "execution_count": 16,
   "metadata": {},
   "outputs": [],
   "source": [
    "todogeneral[\"nameapell\"] = primnomsna.astype(str)+\" \"+ primapellna.astype(str)+ \" \" + segapellna.astype(str)"
   ]
  },
  {
   "cell_type": "code",
   "execution_count": null,
   "metadata": {},
   "outputs": [],
   "source": [
    "personacomp = pd.DataFrame({\"nombres\":todogeneral[\"nameapell\"],\"cedula\":todogeneral[\"ncedula\"],\n",
    "                            \"placa\":todogeneral[\"placa\"],\"dircasainfractor\":todogeneral[\"dirinfractor\"],\n",
    "                            \"dirinfraccion\":todogeneral[\"dirinfrac\"],\"fechacomp\":todogeneral[\"fcomp\"],\n",
    "                            \"horacomp\":todogeneral[\"hcomp\"],\"valorcomp\":todogeneral[\"valorcomp\"],\n",
    "                            \"valorpaga\":todogeneral[\"valpag\"],\"celinfractor\":todogeneral[\"cel\"]})\n",
    "personarunt = pd.DataFrame({\"placa\":runtgeneral[\"placa\"],\"cedulainfractor\":runtgeneral[\"cedulainfrac\"],\n",
    "                            \"cedulapropietario\":runtgeneral[\"cedulaprop\"],\"dircasainfractor\":runtgeneral[\"dircasainfrac\"],\n",
    "                            \"dircasapropietario\":runtgeneral[\"dircasaprop\"],\"celinfractor\":runtgeneral[\"celinfrac\"],\n",
    "                            \"celpropietario\":runtgeneral[\"celprop\"]})\n",
    "\n",
    "\n",
    "personacomp['frecuencianombre'] = personacomp['nombres'].map(personacomp['nombres'].value_counts()) \n",
    "personacomp['frecuenciaplacacomp'] = personacomp['placa'].map(personacomp['placa'].value_counts())\n",
    "personarunt['frecuenciaplacarunt'] = personarunt['placa'].map(personarunt['placa'].value_counts())\n",
    "personarunt['freqcedulainfractor'] = personarunt['cedulainfractor'].map(personarunt['cedulainfractor'].value_counts())\n",
    "personarunt['freqcedulapropietario'] = personarunt['cedulapropietario'].map(personarunt['cedulapropietario'].value_counts())"
   ]
  },
  {
   "cell_type": "code",
   "execution_count": 135,
   "metadata": {},
   "outputs": [],
   "source": [
    "strplaca = todogeneral[\"placa\"]\n",
    "strplaca2 = runtgeneral[\"placa\"]\n",
    "personacomp['placa'] = strplaca.astype(str)\n",
    "personarunt['placa'] = strplaca.astype(str)"
   ]
  },
  {
   "cell_type": "code",
   "execution_count": 137,
   "metadata": {},
   "outputs": [],
   "source": [
    "personacg1 = pd.DataFrame({\"cedulamalla\":todogeneral[\"ncedula\"],\"placa\":personacomp['placa']})\n",
    "\n",
    "personarg1 = pd.DataFrame({\"placa\":personarunt['placa'],\"cedulapropietario\":personarunt['cedulapropietario']})"
   ]
  },
  {
   "cell_type": "code",
   "execution_count": 116,
   "metadata": {},
   "outputs": [],
   "source": [
    "grupocomp = personacg1.groupby([\"cedulamalla\", \"placa\"]).size().reset_index(name='npartescedula')"
   ]
  },
  {
   "cell_type": "code",
   "execution_count": 118,
   "metadata": {},
   "outputs": [],
   "source": [
    "grupocomp['nceduladistin'] = grupocomp['placa'].map(grupocomp['placa'].value_counts())\n",
    "grupocomp['ncedularep'] = grupocomp['cedulamalla'].map(grupocomp['cedulamalla'].value_counts())"
   ]
  },
  {
   "cell_type": "code",
   "execution_count": 131,
   "metadata": {},
   "outputs": [
    {
     "data": {
      "text/html": [
       "<div>\n",
       "<style scoped>\n",
       "    .dataframe tbody tr th:only-of-type {\n",
       "        vertical-align: middle;\n",
       "    }\n",
       "\n",
       "    .dataframe tbody tr th {\n",
       "        vertical-align: top;\n",
       "    }\n",
       "\n",
       "    .dataframe thead th {\n",
       "        text-align: right;\n",
       "    }\n",
       "</style>\n",
       "<table border=\"1\" class=\"dataframe\">\n",
       "  <thead>\n",
       "    <tr style=\"text-align: right;\">\n",
       "      <th></th>\n",
       "      <th>cedulamalla</th>\n",
       "      <th>placa</th>\n",
       "      <th>npartescedula</th>\n",
       "      <th>nceduladistin</th>\n",
       "      <th>ncedularep</th>\n",
       "    </tr>\n",
       "  </thead>\n",
       "  <tbody>\n",
       "    <tr>\n",
       "      <td>18324</td>\n",
       "      <td>171194</td>\n",
       "      <td>HXY608</td>\n",
       "      <td>1</td>\n",
       "      <td>1</td>\n",
       "      <td>3</td>\n",
       "    </tr>\n",
       "    <tr>\n",
       "      <td>18325</td>\n",
       "      <td>171194</td>\n",
       "      <td>JHS657</td>\n",
       "      <td>1</td>\n",
       "      <td>1</td>\n",
       "      <td>3</td>\n",
       "    </tr>\n",
       "    <tr>\n",
       "      <td>18326</td>\n",
       "      <td>171194</td>\n",
       "      <td>MAZ335</td>\n",
       "      <td>1</td>\n",
       "      <td>1</td>\n",
       "      <td>3</td>\n",
       "    </tr>\n",
       "    <tr>\n",
       "      <td>18450</td>\n",
       "      <td>345965</td>\n",
       "      <td>TTV665</td>\n",
       "      <td>1</td>\n",
       "      <td>1</td>\n",
       "      <td>3</td>\n",
       "    </tr>\n",
       "    <tr>\n",
       "      <td>18451</td>\n",
       "      <td>345965</td>\n",
       "      <td>XMC241</td>\n",
       "      <td>1</td>\n",
       "      <td>2</td>\n",
       "      <td>3</td>\n",
       "    </tr>\n",
       "    <tr>\n",
       "      <td>...</td>\n",
       "      <td>...</td>\n",
       "      <td>...</td>\n",
       "      <td>...</td>\n",
       "      <td>...</td>\n",
       "      <td>...</td>\n",
       "    </tr>\n",
       "    <tr>\n",
       "      <td>279426</td>\n",
       "      <td>9.91008e+10</td>\n",
       "      <td>HBD068</td>\n",
       "      <td>1</td>\n",
       "      <td>3</td>\n",
       "      <td>3</td>\n",
       "    </tr>\n",
       "    <tr>\n",
       "      <td>279427</td>\n",
       "      <td>9.91008e+10</td>\n",
       "      <td>OHR54C</td>\n",
       "      <td>1</td>\n",
       "      <td>1</td>\n",
       "      <td>3</td>\n",
       "    </tr>\n",
       "    <tr>\n",
       "      <td>279484</td>\n",
       "      <td>9.91112e+10</td>\n",
       "      <td>BTH170</td>\n",
       "      <td>1</td>\n",
       "      <td>2</td>\n",
       "      <td>3</td>\n",
       "    </tr>\n",
       "    <tr>\n",
       "      <td>279485</td>\n",
       "      <td>9.91112e+10</td>\n",
       "      <td>ICH703</td>\n",
       "      <td>2</td>\n",
       "      <td>2</td>\n",
       "      <td>3</td>\n",
       "    </tr>\n",
       "    <tr>\n",
       "      <td>279486</td>\n",
       "      <td>9.91112e+10</td>\n",
       "      <td>PYV73C</td>\n",
       "      <td>2</td>\n",
       "      <td>1</td>\n",
       "      <td>3</td>\n",
       "    </tr>\n",
       "  </tbody>\n",
       "</table>\n",
       "<p>42318 rows × 5 columns</p>\n",
       "</div>"
      ],
      "text/plain": [
       "        cedulamalla   placa  npartescedula  nceduladistin  ncedularep\n",
       "18324        171194  HXY608              1              1           3\n",
       "18325        171194  JHS657              1              1           3\n",
       "18326        171194  MAZ335              1              1           3\n",
       "18450        345965  TTV665              1              1           3\n",
       "18451        345965  XMC241              1              2           3\n",
       "...             ...     ...            ...            ...         ...\n",
       "279426  9.91008e+10  HBD068              1              3           3\n",
       "279427  9.91008e+10  OHR54C              1              1           3\n",
       "279484  9.91112e+10  BTH170              1              2           3\n",
       "279485  9.91112e+10  ICH703              2              2           3\n",
       "279486  9.91112e+10  PYV73C              2              1           3\n",
       "\n",
       "[42318 rows x 5 columns]"
      ]
     },
     "execution_count": 131,
     "metadata": {},
     "output_type": "execute_result"
    }
   ],
   "source": [
    "filtro2 = grupocomp[(grupocomp[\"placa\"]!=\"SIN\") & (grupocomp[\"ncedularep\"]>2) & (grupocomp[\"ncedularep\"]!=3589) & (grupocomp[\"cedulamalla\"]!=1)\n",
    "                   & (grupocomp[\"cedulamalla\"]!=10) & (grupocomp[\"cedulamalla\"]!=11) & (grupocomp[\"cedulamalla\"]!=111) & (grupocomp[\"cedulamalla\"]!=1023)\n",
    "                    & (grupocomp[\"cedulamalla\"]!=1111) & (grupocomp[\"cedulamalla\"]!=1234)]\n",
    "filtro2"
   ]
  },
  {
   "cell_type": "code",
   "execution_count": 115,
   "metadata": {},
   "outputs": [
    {
     "data": {
      "text/html": [
       "<div>\n",
       "<style scoped>\n",
       "    .dataframe tbody tr th:only-of-type {\n",
       "        vertical-align: middle;\n",
       "    }\n",
       "\n",
       "    .dataframe tbody tr th {\n",
       "        vertical-align: top;\n",
       "    }\n",
       "\n",
       "    .dataframe thead th {\n",
       "        text-align: right;\n",
       "    }\n",
       "</style>\n",
       "<table border=\"1\" class=\"dataframe\">\n",
       "  <thead>\n",
       "    <tr style=\"text-align: right;\">\n",
       "      <th></th>\n",
       "      <th>cedulamalla</th>\n",
       "      <th>placa</th>\n",
       "      <th>npartescedula</th>\n",
       "      <th>nceduladistin</th>\n",
       "      <th>ncedularep</th>\n",
       "    </tr>\n",
       "  </thead>\n",
       "  <tbody>\n",
       "    <tr>\n",
       "      <td>18276</td>\n",
       "      <td>1234</td>\n",
       "      <td>BPK02D</td>\n",
       "      <td>1</td>\n",
       "      <td>3</td>\n",
       "      <td>5</td>\n",
       "    </tr>\n",
       "    <tr>\n",
       "      <td>175261</td>\n",
       "      <td>1.0958e+09</td>\n",
       "      <td>BPK02D</td>\n",
       "      <td>1</td>\n",
       "      <td>3</td>\n",
       "      <td>4</td>\n",
       "    </tr>\n",
       "    <tr>\n",
       "      <td>202157</td>\n",
       "      <td>1.09863e+09</td>\n",
       "      <td>BPK02D</td>\n",
       "      <td>2</td>\n",
       "      <td>3</td>\n",
       "      <td>4</td>\n",
       "    </tr>\n",
       "  </tbody>\n",
       "</table>\n",
       "</div>"
      ],
      "text/plain": [
       "        cedulamalla   placa  npartescedula  nceduladistin  ncedularep\n",
       "18276          1234  BPK02D              1              3           5\n",
       "175261   1.0958e+09  BPK02D              1              3           4\n",
       "202157  1.09863e+09  BPK02D              2              3           4"
      ]
     },
     "execution_count": 115,
     "metadata": {},
     "output_type": "execute_result"
    }
   ],
   "source": [
    "filtron1 = grupocomp[(grupocomp[\"placa\"]==\"BPK02D\")]\n",
    "filtron1"
   ]
  },
  {
   "cell_type": "code",
   "execution_count": 132,
   "metadata": {},
   "outputs": [
    {
     "data": {
      "text/plain": [
       "count    42318.000000\n",
       "mean       634.205775\n",
       "std       1660.656944\n",
       "min          3.000000\n",
       "25%          3.000000\n",
       "50%          3.000000\n",
       "75%          5.000000\n",
       "max       5108.000000\n",
       "Name: ncedularep, dtype: float64"
      ]
     },
     "execution_count": 132,
     "metadata": {},
     "output_type": "execute_result"
    }
   ],
   "source": [
    "filtro2.ncedularep.describe()"
   ]
  },
  {
   "cell_type": "code",
   "execution_count": 139,
   "metadata": {},
   "outputs": [],
   "source": [
    "gruporunt = personarg1.groupby([\"cedulapropietario\", \"placa\"]).size().reset_index(name='npartescedula')"
   ]
  },
  {
   "cell_type": "code",
   "execution_count": 141,
   "metadata": {},
   "outputs": [],
   "source": [
    "gruporunt['nceduladistin'] = gruporunt['placa'].map(gruporunt['placa'].value_counts())\n",
    "gruporunt['ncedularep'] = gruporunt['cedulapropietario'].map(gruporunt['cedulapropietario'].value_counts())"
   ]
  },
  {
   "cell_type": "code",
   "execution_count": 149,
   "metadata": {},
   "outputs": [
    {
     "data": {
      "text/html": [
       "<div>\n",
       "<style scoped>\n",
       "    .dataframe tbody tr th:only-of-type {\n",
       "        vertical-align: middle;\n",
       "    }\n",
       "\n",
       "    .dataframe tbody tr th {\n",
       "        vertical-align: top;\n",
       "    }\n",
       "\n",
       "    .dataframe thead th {\n",
       "        text-align: right;\n",
       "    }\n",
       "</style>\n",
       "<table border=\"1\" class=\"dataframe\">\n",
       "  <thead>\n",
       "    <tr style=\"text-align: right;\">\n",
       "      <th></th>\n",
       "      <th>cedulapropietario</th>\n",
       "      <th>placa</th>\n",
       "      <th>npartescedula</th>\n",
       "      <th>nceduladistin</th>\n",
       "      <th>ncedularep</th>\n",
       "    </tr>\n",
       "  </thead>\n",
       "  <tbody>\n",
       "    <tr>\n",
       "      <td>0</td>\n",
       "      <td>0</td>\n",
       "      <td>0</td>\n",
       "      <td>22</td>\n",
       "      <td>66</td>\n",
       "      <td>57512</td>\n",
       "    </tr>\n",
       "    <tr>\n",
       "      <td>1</td>\n",
       "      <td>0</td>\n",
       "      <td>35</td>\n",
       "      <td>2</td>\n",
       "      <td>1</td>\n",
       "      <td>57512</td>\n",
       "    </tr>\n",
       "    <tr>\n",
       "      <td>2</td>\n",
       "      <td>0</td>\n",
       "      <td>394AAC</td>\n",
       "      <td>1</td>\n",
       "      <td>1</td>\n",
       "      <td>57512</td>\n",
       "    </tr>\n",
       "    <tr>\n",
       "      <td>3</td>\n",
       "      <td>0</td>\n",
       "      <td>517ADP</td>\n",
       "      <td>1</td>\n",
       "      <td>1</td>\n",
       "      <td>57512</td>\n",
       "    </tr>\n",
       "    <tr>\n",
       "      <td>4</td>\n",
       "      <td>0</td>\n",
       "      <td>546ADP</td>\n",
       "      <td>1</td>\n",
       "      <td>1</td>\n",
       "      <td>57512</td>\n",
       "    </tr>\n",
       "    <tr>\n",
       "      <td>...</td>\n",
       "      <td>...</td>\n",
       "      <td>...</td>\n",
       "      <td>...</td>\n",
       "      <td>...</td>\n",
       "      <td>...</td>\n",
       "    </tr>\n",
       "    <tr>\n",
       "      <td>365066</td>\n",
       "      <td>98110753012</td>\n",
       "      <td>BIJ03D</td>\n",
       "      <td>1</td>\n",
       "      <td>3</td>\n",
       "      <td>5</td>\n",
       "    </tr>\n",
       "    <tr>\n",
       "      <td>365067</td>\n",
       "      <td>98110753012</td>\n",
       "      <td>KOI98E</td>\n",
       "      <td>1</td>\n",
       "      <td>2</td>\n",
       "      <td>5</td>\n",
       "    </tr>\n",
       "    <tr>\n",
       "      <td>365068</td>\n",
       "      <td>98110753012</td>\n",
       "      <td>WHX32D</td>\n",
       "      <td>1</td>\n",
       "      <td>2</td>\n",
       "      <td>5</td>\n",
       "    </tr>\n",
       "    <tr>\n",
       "      <td>365069</td>\n",
       "      <td>98110753012</td>\n",
       "      <td>WPG12C</td>\n",
       "      <td>1</td>\n",
       "      <td>2</td>\n",
       "      <td>5</td>\n",
       "    </tr>\n",
       "    <tr>\n",
       "      <td>365070</td>\n",
       "      <td>98110753012</td>\n",
       "      <td>YDW40C</td>\n",
       "      <td>1</td>\n",
       "      <td>3</td>\n",
       "      <td>5</td>\n",
       "    </tr>\n",
       "  </tbody>\n",
       "</table>\n",
       "<p>144112 rows × 5 columns</p>\n",
       "</div>"
      ],
      "text/plain": [
       "       cedulapropietario   placa  npartescedula  nceduladistin  ncedularep\n",
       "0                      0       0             22             66       57512\n",
       "1                      0      35              2              1       57512\n",
       "2                      0  394AAC              1              1       57512\n",
       "3                      0  517ADP              1              1       57512\n",
       "4                      0  546ADP              1              1       57512\n",
       "...                  ...     ...            ...            ...         ...\n",
       "365066       98110753012  BIJ03D              1              3           5\n",
       "365067       98110753012  KOI98E              1              2           5\n",
       "365068       98110753012  WHX32D              1              2           5\n",
       "365069       98110753012  WPG12C              1              2           5\n",
       "365070       98110753012  YDW40C              1              3           5\n",
       "\n",
       "[144112 rows x 5 columns]"
      ]
     },
     "execution_count": 149,
     "metadata": {},
     "output_type": "execute_result"
    }
   ],
   "source": [
    "filtro3 = gruporunt[(gruporunt[\"ncedularep\"]>3)]\n",
    "filtro3"
   ]
  },
  {
   "cell_type": "code",
   "execution_count": 142,
   "metadata": {},
   "outputs": [
    {
     "data": {
      "text/plain": [
       "count    42318.000000\n",
       "mean       634.205775\n",
       "std       1660.656944\n",
       "min          3.000000\n",
       "25%          3.000000\n",
       "50%          3.000000\n",
       "75%          5.000000\n",
       "max       5108.000000\n",
       "Name: ncedularep, dtype: float64"
      ]
     },
     "execution_count": 142,
     "metadata": {},
     "output_type": "execute_result"
    }
   ],
   "source": [
    "filtro2.ncedularep.describe()"
   ]
  },
  {
   "cell_type": "code",
   "execution_count": null,
   "metadata": {},
   "outputs": [],
   "source": []
  }
 ],
 "metadata": {
  "kernelspec": {
   "display_name": "Python 3",
   "language": "python",
   "name": "python3"
  },
  "language_info": {
   "codemirror_mode": {
    "name": "ipython",
    "version": 3
   },
   "file_extension": ".py",
   "mimetype": "text/x-python",
   "name": "python",
   "nbconvert_exporter": "python",
   "pygments_lexer": "ipython3",
   "version": "3.7.4"
  }
 },
 "nbformat": 4,
 "nbformat_minor": 2
}
