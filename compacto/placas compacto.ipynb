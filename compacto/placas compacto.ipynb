{
 "cells": [
  {
   "cell_type": "code",
   "execution_count": 1,
   "metadata": {},
   "outputs": [],
   "source": [
    "import pandas as pd\n",
    "import matplotlib.pyplot as plt\n",
    "from pylab import *\n",
    "from seaborn import lmplot\n",
    "from seaborn import distplot\n",
    "from seaborn import boxplot"
   ]
  },
  {
   "cell_type": "code",
   "execution_count": 68,
   "metadata": {},
   "outputs": [],
   "source": [
    "data2020 = pd.read_excel('Datos Contravencional 2020.xlsx')\n",
    "runtgeneral = pd.read_excel('runt.xlsx')"
   ]
  },
  {
   "cell_type": "code",
   "execution_count": 69,
   "metadata": {},
   "outputs": [
    {
     "data": {
      "text/plain": [
       "Index(['numerocomparendo', 'tipocomparendo', 'fechaimposicion',\n",
       "       'horaimposicion', 'fechanotificacion', 'direccioninfraccion', 'ciudad',\n",
       "       'infraccion', 'cepo', 'metrolinea', 'chaleco', 'casco', 'pico',\n",
       "       'restriccion_motocicleta', 'resolucion_111', 'licenciatransito',\n",
       "       'tipodoc', 'documento', 'inmovilizado', 'grua', 'usuario', 'placaa',\n",
       "       'entidad', 'nombreagente', 'estado', 'tipo_resolucion',\n",
       "       'numero_resolucion', 'fecha_documento', 'fecha_pago', 'fecha_acuerdo',\n",
       "       'placac', 'primernombre', 'segundonombre', 'primerapellido',\n",
       "       'segundoapellido', 'celular', 'direccioninfractor', 'nombre',\n",
       "       'valorcomp', 'saldo', 'valor_pagado', 'curso', 'tipo_curso', 'grado',\n",
       "       'numeroprueba', 'clasevehiculo', 'claseservicio'],\n",
       "      dtype='object')"
      ]
     },
     "execution_count": 69,
     "metadata": {},
     "output_type": "execute_result"
    }
   ],
   "source": [
    "data2020.columns"
   ]
  },
  {
   "cell_type": "code",
   "execution_count": 70,
   "metadata": {},
   "outputs": [
    {
     "data": {
      "text/plain": [
       "Index(['placa', 'comparendo', 'tipocomparendo', 'tipo_documento_infractor',\n",
       "       'identificacion_infractor', 'tipo_documento_propietario',\n",
       "       'identificacion_propietario', 'estado_infraccion',\n",
       "       'direccion_residencia_infractor', 'municipio_residencia_infractor',\n",
       "       'departamento_residencia_infractor', 'telefono_celular_infractor',\n",
       "       'direccion_residencia_propietario', 'municipio_residencia_propietario',\n",
       "       'departamento_residencia_propietario', 'telefono_celular_propietario'],\n",
       "      dtype='object')"
      ]
     },
     "execution_count": 70,
     "metadata": {},
     "output_type": "execute_result"
    }
   ],
   "source": [
    "runtgeneral.columns"
   ]
  },
  {
   "cell_type": "code",
   "execution_count": 71,
   "metadata": {},
   "outputs": [],
   "source": [
    "data2020.columns=['ncomp','tcomp','fcomp','hcomp','fnotifi','dirinfrac','ciudad','infrac','cepo','metro','chale','casco','pico','restmot','resolu111','licencia','tipodoc','ncedula','inmobi','grua','usuario','placaa','entidad','nomagen','estado','tiresol','nresol','fdocu','fpago','facuerdo','placac','primnom','segnom','primapell','segapell','cel','dirinfractor','name','valorcomp','saldo','valpag','curso','ticurso','grado','nprueba','clasvehicu','classervicio']"
   ]
  },
  {
   "cell_type": "code",
   "execution_count": 72,
   "metadata": {},
   "outputs": [],
   "source": [
    "runtgeneral.columns=['placa','ncomp','tcomp','docinfrac','cedulainfrac','docprop','cedulaprop','estado','dircasainfrac','municasainfrac','depcasainfrac','celinfrac','dircasaprop','municasaprop','depcasaprop','celprop']"
   ]
  },
  {
   "cell_type": "code",
   "execution_count": 73,
   "metadata": {},
   "outputs": [],
   "source": [
    "primnomsna= data2020[\"primnom\"].fillna(value=\"\")\n",
    "#segnomsna = data2020[\"segnom\"].fillna(value=\"\")\n",
    "primapellna = data2020[\"primapell\"].fillna(value=\"\")\n",
    "segapellna = data2020[\"segapell\"].fillna(value=\"\")\n",
    "data2020[\"ncedula\"] = data2020[\"ncedula\"].fillna(value=0)\n",
    "runtgeneral[\"cedulainfrac\"] = runtgeneral[\"cedulainfrac\"].fillna(value=0)\n",
    "runtgeneral[\"cedulaprop\"] = runtgeneral[\"cedulaprop\"].fillna(value=0)"
   ]
  },
  {
   "cell_type": "code",
   "execution_count": 74,
   "metadata": {},
   "outputs": [],
   "source": [
    "data2020[\"nameapell\"] = primnomsna.astype(str)+\" \"+ primapellna.astype(str)+ \" \" + segapellna.astype(str)"
   ]
  },
  {
   "cell_type": "code",
   "execution_count": 104,
   "metadata": {},
   "outputs": [],
   "source": [
    "personacomp = pd.DataFrame({\"nombres\":data2020[\"nameapell\"],\"cedula\":data2020[\"ncedula\"],\n",
    "                            \"placa\":data2020[\"placac\"],\"dircasainfractor\":data2020[\"dirinfractor\"],\n",
    "                            \"dirinfraccion\":data2020[\"dirinfrac\"],\"fechacomp\":data2020[\"fcomp\"],\n",
    "                            \"horacomp\":data2020[\"hcomp\"],\"valorcomp\":data2020[\"valorcomp\"],\n",
    "                            \"valorpaga\":data2020[\"valpag\"],\"celinfractor\":data2020[\"cel\"]})\n",
    "personarunt = pd.DataFrame({\"placa\":runtgeneral[\"placa\"],\"cedulainfractor\":runtgeneral[\"cedulainfrac\"],\n",
    "                            \"cedulapropietario\":runtgeneral[\"cedulaprop\"],\"dircasainfractor\":runtgeneral[\"dircasainfrac\"],\n",
    "                            \"dircasapropietario\":runtgeneral[\"dircasaprop\"],\"celinfractor\":runtgeneral[\"celinfrac\"],\n",
    "                            \"celpropietario\":runtgeneral[\"celprop\"]})\n",
    "\n",
    "\n",
    "personacomp['frecuencianombre'] = personacomp['nombres'].map(personacomp['nombres'].value_counts()) \n",
    "personacomp['frecuenciaplacacomp'] = personacomp['placa'].map(personacomp['placa'].value_counts())\n",
    "personarunt['frecuenciaplacarunt'] = personarunt['placa'].map(personarunt['placa'].value_counts())\n",
    "personarunt['freqcedulainfractor'] = personarunt['cedulainfractor'].map(personarunt['cedulainfractor'].value_counts())\n",
    "personarunt['freqcedulapropietario'] = personarunt['cedulapropietario'].map(personarunt['cedulapropietario'].value_counts())"
   ]
  },
  {
   "cell_type": "code",
   "execution_count": 105,
   "metadata": {},
   "outputs": [
    {
     "data": {
      "text/plain": [
       "427"
      ]
     },
     "execution_count": 105,
     "metadata": {},
     "output_type": "execute_result"
    }
   ],
   "source": [
    "filtrocomp = personacomp[(personacomp[\"frecuenciaplacacomp\"]>2)]\n",
    "len(filtrocomp)"
   ]
  },
  {
   "cell_type": "code",
   "execution_count": 111,
   "metadata": {},
   "outputs": [],
   "source": [
    "personacreducida = pd.DataFrame({\"placa\":filtrocomp['placa'],\"cedulamalla\":filtrocomp['cedula'],\n",
    "                                 \"nombres\":filtrocomp['nombres'],\"fecha\":filtrocomp['fechacomp']})\n",
    "\n",
    "personarreducida = pd.DataFrame({\"placa\":personarunt['placa'],\"cedulainfractor\":personarunt['cedulainfractor'],\n",
    "                                 \"cedulapropietario\":personarunt['cedulapropietario']})"
   ]
  },
  {
   "cell_type": "code",
   "execution_count": 121,
   "metadata": {},
   "outputs": [
    {
     "data": {
      "text/html": [
       "<div>\n",
       "<style scoped>\n",
       "    .dataframe tbody tr th:only-of-type {\n",
       "        vertical-align: middle;\n",
       "    }\n",
       "\n",
       "    .dataframe tbody tr th {\n",
       "        vertical-align: top;\n",
       "    }\n",
       "\n",
       "    .dataframe thead th {\n",
       "        text-align: right;\n",
       "    }\n",
       "</style>\n",
       "<table border=\"1\" class=\"dataframe\">\n",
       "  <thead>\n",
       "    <tr style=\"text-align: right;\">\n",
       "      <th></th>\n",
       "      <th>placa</th>\n",
       "      <th>cedulainfractor</th>\n",
       "      <th>cedulapropietario</th>\n",
       "      <th>cedulamalla</th>\n",
       "      <th>nombres</th>\n",
       "      <th>fecha</th>\n",
       "    </tr>\n",
       "  </thead>\n",
       "  <tbody>\n",
       "    <tr>\n",
       "      <th>0</th>\n",
       "      <td>LDE59C</td>\n",
       "      <td>0</td>\n",
       "      <td>13716849</td>\n",
       "      <td>1095928709</td>\n",
       "      <td>YORDAN ECHAVARRIA BARRERO</td>\n",
       "      <td>2020-02-15</td>\n",
       "    </tr>\n",
       "    <tr>\n",
       "      <th>1</th>\n",
       "      <td>LDE59C</td>\n",
       "      <td>0</td>\n",
       "      <td>13716849</td>\n",
       "      <td>1095928709</td>\n",
       "      <td>YORDAN ECHAVARRIA BARRERO</td>\n",
       "      <td>2020-02-15</td>\n",
       "    </tr>\n",
       "    <tr>\n",
       "      <th>2</th>\n",
       "      <td>LDE59C</td>\n",
       "      <td>0</td>\n",
       "      <td>13716849</td>\n",
       "      <td>1095928709</td>\n",
       "      <td>YORDAN ECHAVARRIA BARRERO</td>\n",
       "      <td>2020-02-15</td>\n",
       "    </tr>\n",
       "    <tr>\n",
       "      <th>3</th>\n",
       "      <td>LDE59C</td>\n",
       "      <td>91232362</td>\n",
       "      <td>13716849</td>\n",
       "      <td>1095928709</td>\n",
       "      <td>YORDAN ECHAVARRIA BARRERO</td>\n",
       "      <td>2020-02-15</td>\n",
       "    </tr>\n",
       "    <tr>\n",
       "      <th>4</th>\n",
       "      <td>LDE59C</td>\n",
       "      <td>91232362</td>\n",
       "      <td>13716849</td>\n",
       "      <td>1095928709</td>\n",
       "      <td>YORDAN ECHAVARRIA BARRERO</td>\n",
       "      <td>2020-02-15</td>\n",
       "    </tr>\n",
       "  </tbody>\n",
       "</table>\n",
       "</div>"
      ],
      "text/plain": [
       "    placa cedulainfractor cedulapropietario cedulamalla  \\\n",
       "0  LDE59C               0          13716849  1095928709   \n",
       "1  LDE59C               0          13716849  1095928709   \n",
       "2  LDE59C               0          13716849  1095928709   \n",
       "3  LDE59C        91232362          13716849  1095928709   \n",
       "4  LDE59C        91232362          13716849  1095928709   \n",
       "\n",
       "                     nombres      fecha  \n",
       "0  YORDAN ECHAVARRIA BARRERO 2020-02-15  \n",
       "1  YORDAN ECHAVARRIA BARRERO 2020-02-15  \n",
       "2  YORDAN ECHAVARRIA BARRERO 2020-02-15  \n",
       "3  YORDAN ECHAVARRIA BARRERO 2020-02-15  \n",
       "4  YORDAN ECHAVARRIA BARRERO 2020-02-15  "
      ]
     },
     "execution_count": 121,
     "metadata": {},
     "output_type": "execute_result"
    }
   ],
   "source": [
    "intersect = personarreducida.merge(personacreducida, how='inner')\n",
    "intersect.head()"
   ]
  },
  {
   "cell_type": "code",
   "execution_count": 122,
   "metadata": {},
   "outputs": [
    {
     "data": {
      "text/html": [
       "<div>\n",
       "<style scoped>\n",
       "    .dataframe tbody tr th:only-of-type {\n",
       "        vertical-align: middle;\n",
       "    }\n",
       "\n",
       "    .dataframe tbody tr th {\n",
       "        vertical-align: top;\n",
       "    }\n",
       "\n",
       "    .dataframe thead th {\n",
       "        text-align: right;\n",
       "    }\n",
       "</style>\n",
       "<table border=\"1\" class=\"dataframe\">\n",
       "  <thead>\n",
       "    <tr style=\"text-align: right;\">\n",
       "      <th></th>\n",
       "      <th>placa</th>\n",
       "      <th>cedulainfractor</th>\n",
       "      <th>cedulapropietario</th>\n",
       "      <th>cedulamalla</th>\n",
       "      <th>nombres</th>\n",
       "      <th>fecha</th>\n",
       "    </tr>\n",
       "  </thead>\n",
       "  <tbody>\n",
       "    <tr>\n",
       "      <th>30</th>\n",
       "      <td>XWY87</td>\n",
       "      <td>0</td>\n",
       "      <td>70255141</td>\n",
       "      <td>0</td>\n",
       "      <td>NO LEGIBLE</td>\n",
       "      <td>2020-01-03</td>\n",
       "    </tr>\n",
       "    <tr>\n",
       "      <th>31</th>\n",
       "      <td>XWY87</td>\n",
       "      <td>0</td>\n",
       "      <td>70255141</td>\n",
       "      <td>0</td>\n",
       "      <td>NO LEGIBLE</td>\n",
       "      <td>2020-01-03</td>\n",
       "    </tr>\n",
       "    <tr>\n",
       "      <th>32</th>\n",
       "      <td>XWY87</td>\n",
       "      <td>0</td>\n",
       "      <td>70255141</td>\n",
       "      <td>0</td>\n",
       "      <td>NO LEGIBLE</td>\n",
       "      <td>2020-01-03</td>\n",
       "    </tr>\n",
       "    <tr>\n",
       "      <th>33</th>\n",
       "      <td>XWY87</td>\n",
       "      <td>0</td>\n",
       "      <td>70255141</td>\n",
       "      <td>0</td>\n",
       "      <td>NO LEGIBLE</td>\n",
       "      <td>2020-01-03</td>\n",
       "    </tr>\n",
       "    <tr>\n",
       "      <th>34</th>\n",
       "      <td>XWY87</td>\n",
       "      <td>0</td>\n",
       "      <td>70255141</td>\n",
       "      <td>0</td>\n",
       "      <td>NO LEGIBLE</td>\n",
       "      <td>2020-01-03</td>\n",
       "    </tr>\n",
       "    <tr>\n",
       "      <th>...</th>\n",
       "      <td>...</td>\n",
       "      <td>...</td>\n",
       "      <td>...</td>\n",
       "      <td>...</td>\n",
       "      <td>...</td>\n",
       "      <td>...</td>\n",
       "    </tr>\n",
       "    <tr>\n",
       "      <th>139</th>\n",
       "      <td>EEI16</td>\n",
       "      <td>1095829021</td>\n",
       "      <td>0</td>\n",
       "      <td>0</td>\n",
       "      <td>SIN RECONOCER RECONOCER</td>\n",
       "      <td>2020-02-09</td>\n",
       "    </tr>\n",
       "    <tr>\n",
       "      <th>140</th>\n",
       "      <td>EEI16</td>\n",
       "      <td>1095829021</td>\n",
       "      <td>0</td>\n",
       "      <td>0</td>\n",
       "      <td>SIN RECONOCER RECONOCER</td>\n",
       "      <td>2020-02-09</td>\n",
       "    </tr>\n",
       "    <tr>\n",
       "      <th>141</th>\n",
       "      <td>EEI16</td>\n",
       "      <td>1098657644</td>\n",
       "      <td>91175101</td>\n",
       "      <td>0</td>\n",
       "      <td>SIN RECONOCER RECONOCER</td>\n",
       "      <td>2020-02-09</td>\n",
       "    </tr>\n",
       "    <tr>\n",
       "      <th>142</th>\n",
       "      <td>EEI16</td>\n",
       "      <td>1098657644</td>\n",
       "      <td>91175101</td>\n",
       "      <td>0</td>\n",
       "      <td>SIN RECONOCER RECONOCER</td>\n",
       "      <td>2020-02-09</td>\n",
       "    </tr>\n",
       "    <tr>\n",
       "      <th>143</th>\n",
       "      <td>EEI16</td>\n",
       "      <td>1098657644</td>\n",
       "      <td>91175101</td>\n",
       "      <td>0</td>\n",
       "      <td>SIN RECONOCER RECONOCER</td>\n",
       "      <td>2020-02-09</td>\n",
       "    </tr>\n",
       "  </tbody>\n",
       "</table>\n",
       "<p>114 rows × 6 columns</p>\n",
       "</div>"
      ],
      "text/plain": [
       "     placa cedulainfractor cedulapropietario cedulamalla  \\\n",
       "30   XWY87               0          70255141           0   \n",
       "31   XWY87               0          70255141           0   \n",
       "32   XWY87               0          70255141           0   \n",
       "33   XWY87               0          70255141           0   \n",
       "34   XWY87               0          70255141           0   \n",
       "..     ...             ...               ...         ...   \n",
       "139  EEI16      1095829021                 0           0   \n",
       "140  EEI16      1095829021                 0           0   \n",
       "141  EEI16      1098657644          91175101           0   \n",
       "142  EEI16      1098657644          91175101           0   \n",
       "143  EEI16      1098657644          91175101           0   \n",
       "\n",
       "                      nombres      fecha  \n",
       "30               NO LEGIBLE   2020-01-03  \n",
       "31               NO LEGIBLE   2020-01-03  \n",
       "32               NO LEGIBLE   2020-01-03  \n",
       "33               NO LEGIBLE   2020-01-03  \n",
       "34               NO LEGIBLE   2020-01-03  \n",
       "..                        ...        ...  \n",
       "139  SIN RECONOCER RECONOCER  2020-02-09  \n",
       "140  SIN RECONOCER RECONOCER  2020-02-09  \n",
       "141  SIN RECONOCER RECONOCER  2020-02-09  \n",
       "142  SIN RECONOCER RECONOCER  2020-02-09  \n",
       "143  SIN RECONOCER RECONOCER  2020-02-09  \n",
       "\n",
       "[114 rows x 6 columns]"
      ]
     },
     "execution_count": 122,
     "metadata": {},
     "output_type": "execute_result"
    }
   ],
   "source": [
    "intersect[(intersect[\"cedulamalla\"]==0)]"
   ]
  },
  {
   "cell_type": "code",
   "execution_count": null,
   "metadata": {},
   "outputs": [],
   "source": []
  }
 ],
 "metadata": {
  "kernelspec": {
   "display_name": "Python 3",
   "language": "python",
   "name": "python3"
  },
  "language_info": {
   "codemirror_mode": {
    "name": "ipython",
    "version": 3
   },
   "file_extension": ".py",
   "mimetype": "text/x-python",
   "name": "python",
   "nbconvert_exporter": "python",
   "pygments_lexer": "ipython3",
   "version": "3.7.5"
  }
 },
 "nbformat": 4,
 "nbformat_minor": 2
}
